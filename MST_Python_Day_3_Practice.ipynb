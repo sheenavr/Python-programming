{
  "nbformat": 4,
  "nbformat_minor": 0,
  "metadata": {
    "colab": {
      "provenance": [],
      "authorship_tag": "ABX9TyNF4k33CPL/BAsUl+MpHxv+",
      "include_colab_link": true
    },
    "kernelspec": {
      "name": "python3",
      "display_name": "Python 3"
    },
    "language_info": {
      "name": "python"
    }
  },
  "cells": [
    {
      "cell_type": "markdown",
      "metadata": {
        "id": "view-in-github",
        "colab_type": "text"
      },
      "source": [
        "<a href=\"https://colab.research.google.com/github/sheenavr/Python-programming/blob/main/MST_Python_Day_3_Practice.ipynb\" target=\"_parent\"><img src=\"https://colab.research.google.com/assets/colab-badge.svg\" alt=\"Open In Colab\"/></a>"
      ]
    },
    {
      "cell_type": "markdown",
      "source": [],
      "metadata": {
        "id": "3DNpewFGD_YU"
      }
    },
    {
      "cell_type": "markdown",
      "source": [
        "1. Given the participants' score sheet for your University Sports Day, you are required to\n",
        "find the runner-up score. You are given scores. Store them in a list and find the score of\n",
        "the runner-up. (Create an array of scores and print the runner up score)"
      ],
      "metadata": {
        "id": "NWz4CFK6ECKB"
      }
    },
    {
      "cell_type": "code",
      "execution_count": 2,
      "metadata": {
        "colab": {
          "base_uri": "https://localhost:8080/"
        },
        "id": "_L3PwtdDDvVG",
        "outputId": "060ffc14-0f0b-4ee2-fb4a-1f47ead35572"
      },
      "outputs": [
        {
          "output_type": "stream",
          "name": "stdout",
          "text": [
            "12 15 10 2 10\n",
            "The list of score [12, 15, 10, 2, 10]\n",
            "The runner up score: 12\n"
          ]
        }
      ],
      "source": [
        "participant_arr = list(map(int, input().split()))\n",
        "set_arr = set(participant_arr)\n",
        "resul_arr = sorted(set_arr)\n",
        "print(\"The list of score\",participant_arr)\n",
        "print(\"The runner up score:\",resul_arr[-2])"
      ]
    },
    {
      "cell_type": "markdown",
      "source": [
        "2.A dictionary is given D={‘John’ [25,32,43],’Peter’:[87,55,96],’Ram’:[58,55,43],’Meena’:[63,79,85]}\n",
        "Get a name from user if the name in the dictionary change the values corresponding to\n",
        "that user to [88,77,99] and print the dictionary. Else print ‘Name not found’.\n",
        "\n"
      ],
      "metadata": {
        "id": "B-M0AZaPEo-X"
      }
    },
    {
      "cell_type": "code",
      "source": [
        "personal_dic={'John': [25,32,43],'Peter':[87,55,96],'Ram':[58,55,43],'Meena':[63,79,85]}\n",
        "name_str=input(\"Enter the name: \")\n",
        "if name_str in personal_dic:\n",
        "    d1={name_str: [88,77,99]}\n",
        "    personal_dic.update(d1)\n",
        "    print(personal_dic) \n",
        "else:\n",
        "    print(\"The name not found in the dictionary\")"
      ],
      "metadata": {
        "colab": {
          "base_uri": "https://localhost:8080/"
        },
        "id": "pCPct-pRE0Qn",
        "outputId": "1f2ef910-1404-460a-ff34-eeb606abb7ae"
      },
      "execution_count": 5,
      "outputs": [
        {
          "output_type": "stream",
          "name": "stdout",
          "text": [
            "Enter the name: John\n",
            "{'John': [88, 77, 99], 'Peter': [87, 55, 96], 'Ram': [58, 55, 43], 'Meena': [63, 79, 85]}\n"
          ]
        }
      ]
    },
    {
      "cell_type": "markdown",
      "source": [
        "3.Ticket Price Calculator:\n",
        "I. Ask the user to enter their age.\n",
        "II. Use control statements (if-elif-else) to calculate the ticket price based on the \n",
        "following conditions:\n",
        "a. If the age is below 5, the ticket price is free.\n",
        "b. If the age is between 5 and 12 (inclusive), the ticket price is Rs.10.\n",
        "c. If the age is above 12, the ticket price is Rs.50.\n",
        "d. If the age is above 60, the ticket price is free.\n",
        "e. If the gender is female, the ticket price is 50% of the applicable rates.\n",
        "III. Display the ticket price to the user"
      ],
      "metadata": {
        "id": "ZbWkb5mtFIy_"
      }
    },
    {
      "cell_type": "code",
      "source": [
        "\n",
        "user_age=int(input(\"Enter the age\"))\n",
        "gender=input(\"Enter the gender\")\n",
        "if user_age<5 or user_age>60:\n",
        "    print(\"The ticket is free\")\n",
        "elif gender=='female' and   5>=  user_age and  user_age<=12 :\n",
        "    new_rate=10*0.5\n",
        "    print(\"The ticket price is \",new_rate)\n",
        "elif gender=='female' and  user_age>12 : \n",
        "    new_rate=50*0.5\n",
        "    print(\"the ticket price is \",new_rate)\n",
        "elif  5>=  user_age and  user_age<=12:\n",
        "    print(\"The ticket price is Rs.10\")\n",
        "elif user_age>12: \n",
        "    print(\"The ticket price is Rs.50\")"
      ],
      "metadata": {
        "colab": {
          "base_uri": "https://localhost:8080/"
        },
        "id": "l3ugPKXbFN1J",
        "outputId": "9caf0327-f23f-4293-b4c0-0360366f5f72"
      },
      "execution_count": 9,
      "outputs": [
        {
          "output_type": "stream",
          "name": "stdout",
          "text": [
            "Enter the age50\n",
            "Enter the genderfemale\n",
            "the ticket price is  25.0\n"
          ]
        }
      ]
    },
    {
      "cell_type": "markdown",
      "source": [],
      "metadata": {
        "id": "FhUf82OpEBWY"
      }
    }
  ]
}