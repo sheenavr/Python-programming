{
  "nbformat": 4,
  "nbformat_minor": 0,
  "metadata": {
    "colab": {
      "provenance": [],
      "authorship_tag": "ABX9TyP0jr96UfKr8JJCau045lyu",
      "include_colab_link": true
    },
    "kernelspec": {
      "name": "python3",
      "display_name": "Python 3"
    },
    "language_info": {
      "name": "python"
    }
  },
  "cells": [
    {
      "cell_type": "markdown",
      "metadata": {
        "id": "view-in-github",
        "colab_type": "text"
      },
      "source": [
        "<a href=\"https://colab.research.google.com/github/sheenavr/Python-programming/blob/main/MST_Practice_Day6.ipynb\" target=\"_parent\"><img src=\"https://colab.research.google.com/assets/colab-badge.svg\" alt=\"Open In Colab\"/></a>"
      ]
    },
    {
      "cell_type": "code",
      "execution_count": null,
      "metadata": {
        "colab": {
          "base_uri": "https://localhost:8080/"
        },
        "id": "iMs4NaKkOecm",
        "outputId": "c8ce523f-40b9-4b4b-be33-529f67455d7f"
      },
      "outputs": [
        {
          "output_type": "stream",
          "name": "stdout",
          "text": [
            "The color is:red\n",
            "Area of Circle 12.566370614359172\n",
            "The color is:red\n",
            "Area of Rectangle 8\n",
            "The color is:red\n",
            "Area of Square 4\n"
          ]
        }
      ],
      "source": [
        "#1. Inheritance Example \n",
        "#Base Class ---Shape\n",
        "class Shape:\n",
        "  def __init__(self, color):\n",
        "    self.color=color\n",
        "  def __str__(self):\n",
        "    return str(self.color)\n",
        "\n",
        "\n",
        "\n",
        "#Child Class--- Circle\n",
        "import math\n",
        "class Circle(Shape):\n",
        "  def __init__(self, color,radius):\n",
        "    self.radius=radius \t\n",
        "    super().__init__(color)\n",
        "  def __str__(self):\n",
        "        return \"The color is:\"+self.color+'\\n'+'Area of Circle '+str(math.pi*self.radius**2) \n",
        " \n",
        "x = Circle(\"red\",2)\n",
        "print(x)\n",
        "\n",
        "class Rectangle(Shape):\n",
        "  def __init__(self, color,length,width):\n",
        "    self.length=length\n",
        "    self.width=width \t\n",
        "    super().__init__(color)\n",
        "  def __str__(self):\n",
        "        return \"The color is:\"+self.color+'\\n'+'Area of Rectangle '+str(self.length*self.width) \n",
        " \n",
        "x = Rectangle(\"red\",2,4)\n",
        "print(x)\n",
        "\n",
        "class Square(Rectangle):\n",
        "  def __init__(self, color,side):\n",
        "    self.side=side\n",
        "   \n",
        "    super().__init__(color,side,side)\n",
        "  def __str__(self):\n",
        "        return \"The color is:\"+self.color+'\\n'+'Area of Square '+str(self.side*self.side)\n",
        "\n",
        "x = Square(\"red\",2)\n",
        "print(x)"
      ]
    },
    {
      "cell_type": "code",
      "source": [
        "#2 \tCreate a class called BankAccount to represent a bank account. The class should have attributes \n",
        "# like account_number, account_holder, and balance. Implement methods to \n",
        "# deposit and withdraw money, calculate interest, and display the current balance. \n",
        "# Use encapsulation to ensure that the balance attribute is accessed and modified through appropriate methods.\n",
        "\n",
        "class BankAccount:\n",
        "  def __init__(self,accountNumber,accountHolder,balance):\n",
        "    self.account_number=accountNumber\n",
        "    self.accountHolder=accountHolder\n",
        "    self.balance=balance\n",
        "  def deposit(self):\n",
        "        amount = float(input(\"Enter amount to be deposited: \"))\n",
        "        self.balance += amount\n",
        "        print(\"\\n Amount Deposited:\", amount) \n",
        "        print(\"\\n Your Current balance is:\", self.balance) \n",
        "  def withdraw(self):\n",
        "        amount = float(input(\"Enter amount to be withdrawn: \"))\n",
        "        if self.balance >= amount:\n",
        "            self.balance -= amount\n",
        "            print(\"\\n You Withdrew:\", amount)\n",
        "        else:\n",
        "            print(\"\\n Insufficient balance  \")\n",
        "  def display(self):\n",
        "        print(\"\\n Balance in your account=\", self.balance)   \n",
        "\n",
        "\n",
        "acc = BankAccount(10000000,\"Adam\",10000)\n",
        " \n",
        "acc.deposit()\n",
        "acc.withdraw()\n",
        "acc.display()                     \n"
      ],
      "metadata": {
        "colab": {
          "base_uri": "https://localhost:8080/"
        },
        "id": "Jv97WeECO7st",
        "outputId": "757e2e7f-a9e3-478e-fd86-0c8d00a715f8"
      },
      "execution_count": null,
      "outputs": [
        {
          "output_type": "stream",
          "name": "stdout",
          "text": [
            "Enter amount to be deposited: 30000\n",
            "\n",
            " Amount Deposited: 30000.0\n",
            "\n",
            " Your Current balance is: 40000.0\n",
            "Enter amount to be withdrawn: 1000\n",
            "\n",
            " You Withdrew: 1000.0\n",
            "\n",
            " Balance in your account= 39000.0\n"
          ]
        }
      ]
    },
    {
      "cell_type": "markdown",
      "source": [
        "A list on a single line containing the cubes of the first  fibonacci numbers.\n",
        "Sample Input\n",
        "\n",
        "5\n",
        "Sample Output\n",
        "\n",
        "[0, 1, 1, 8, 27]\n",
        "Explanation\n",
        "\n",
        "The first  fibonacci numbers are[0,1,1,2,3] , and their cubes are[0,1,1,8,27] ."
      ],
      "metadata": {
        "id": "b2_gk8fd_3zQ"
      }
    },
    {
      "cell_type": "markdown",
      "source": [],
      "metadata": {
        "id": "TBbz_gD4__LW"
      }
    },
    {
      "cell_type": "code",
      "source": [
        "fib_list=[]\n",
        "cube_list=[]\n",
        "\n",
        "def fibSeries(n):\n",
        "   if n <= 1:\n",
        "       return n\n",
        "   else:\n",
        "       return(fibSeries(n-1) + fibSeries(n-2))\n",
        "\n",
        "n = int(input(\"Enter the number\"))\n",
        "if n <= 0:\n",
        "   print(\"Plese enter a positive integer\")\n",
        "else:\n",
        "   print(\"Fibonacci sequence:\")\n",
        "   for i in range(n):\n",
        "       fib_list.append(fibSeries(i))\n",
        "   print(fib_list)\n",
        "   cube_list=list(map(lambda n: n**3, fib_list))\n",
        "   print(cube_list)\n",
        "\n"
      ],
      "metadata": {
        "id": "dPdKSOlh_2oK",
        "colab": {
          "base_uri": "https://localhost:8080/"
        },
        "outputId": "9fc7c328-c5fb-45e6-8a46-f9cdbacac901"
      },
      "execution_count": 16,
      "outputs": [
        {
          "output_type": "stream",
          "name": "stdout",
          "text": [
            "Enter the number5\n",
            "Fibonacci sequence:\n",
            "[0, 1, 1, 2, 3]\n",
            "[0, 1, 1, 8, 27]\n"
          ]
        }
      ]
    }
  ]
}