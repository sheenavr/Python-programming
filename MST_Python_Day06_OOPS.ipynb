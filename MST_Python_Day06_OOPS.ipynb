{
 "cells": [
  {
   "cell_type": "code",
   "execution_count": 39,
   "id": "e1d75dcb",
   "metadata": {},
   "outputs": [],
   "source": [
    "from abc import ABC,abstractmethod\n",
    "class Person(ABC):\n",
    "    def __init__(self,name,id1):\n",
    "        self.name = name\n",
    "        self.__id = id1\n",
    "        \n",
    "    @abstractmethod\n",
    "    def sayHello(self):\n",
    "        print (\"Hello \",self.name) \n",
    "        \n",
    "    def add_id(self,new_id):\n",
    "        self.__id = new_id\n",
    "    def get_id(self):\n",
    "        return self.__id\n",
    "    \n",
    "    def __str__(self):\n",
    "        return 'Name : '+self.name+'\\n'+'Id : '+str(self.__id)"
   ]
  },
  {
   "cell_type": "code",
   "execution_count": 23,
   "id": "0debf4e1",
   "metadata": {},
   "outputs": [],
   "source": [
    "p1 = Person('Deepa',1000)\n",
    "p2 = Person('Dan',1001)"
   ]
  },
  {
   "cell_type": "code",
   "execution_count": 24,
   "id": "6ed19dc5",
   "metadata": {},
   "outputs": [
    {
     "name": "stdout",
     "output_type": "stream",
     "text": [
      "Name : Deepa\n",
      "Id : 1000\n"
     ]
    }
   ],
   "source": [
    "print(p1)"
   ]
  },
  {
   "cell_type": "code",
   "execution_count": 3,
   "id": "ee95bf9e",
   "metadata": {},
   "outputs": [
    {
     "name": "stdout",
     "output_type": "stream",
     "text": [
      "Name : Thomas\n",
      "Id : 1002\n"
     ]
    }
   ],
   "source": [
    "p1.name = 'Thomas'\n",
    "p1.add_id(1002)\n",
    "print(p1)"
   ]
  },
  {
   "cell_type": "code",
   "execution_count": 4,
   "id": "d1ee42bc",
   "metadata": {},
   "outputs": [
    {
     "name": "stdout",
     "output_type": "stream",
     "text": [
      "1001\n"
     ]
    }
   ],
   "source": [
    "print(p2.get_id())"
   ]
  },
  {
   "cell_type": "code",
   "execution_count": 5,
   "id": "055bf9e8",
   "metadata": {},
   "outputs": [
    {
     "name": "stdout",
     "output_type": "stream",
     "text": [
      "Hello  Dan\n"
     ]
    }
   ],
   "source": [
    "p2.sayHello()"
   ]
  },
  {
   "cell_type": "code",
   "execution_count": 6,
   "id": "cc3ddfcd",
   "metadata": {},
   "outputs": [],
   "source": [
    "p1.name = 'Devi'"
   ]
  },
  {
   "cell_type": "code",
   "execution_count": 7,
   "id": "ea7c3887",
   "metadata": {},
   "outputs": [
    {
     "name": "stdout",
     "output_type": "stream",
     "text": [
      "Name : Devi\n",
      "Id : 1002\n"
     ]
    }
   ],
   "source": [
    "print(p1)"
   ]
  },
  {
   "cell_type": "code",
   "execution_count": 8,
   "id": "68fcd36d",
   "metadata": {},
   "outputs": [
    {
     "name": "stdout",
     "output_type": "stream",
     "text": [
      "Devi\n"
     ]
    }
   ],
   "source": [
    "print(p1.name)"
   ]
  },
  {
   "cell_type": "code",
   "execution_count": 9,
   "id": "a0711d12",
   "metadata": {},
   "outputs": [
    {
     "name": "stdout",
     "output_type": "stream",
     "text": [
      "Name : Devi\n",
      "Id : 1002\n"
     ]
    }
   ],
   "source": [
    "print(p1)"
   ]
  },
  {
   "cell_type": "code",
   "execution_count": 36,
   "id": "2a5ba8b6",
   "metadata": {},
   "outputs": [],
   "source": [
    "class Student(Person):\n",
    "    def __init__(self,name,id1,mark):\n",
    "        super().__init__(name,id1)\n",
    "        self.mark = mark\n",
    "    def __str__(self):\n",
    "        return 'Name : '+self.name+'\\n'+'Mark : '+str(self.mark)\n",
    "    def sayHello(self):\n",
    "        print(\"Hai Student \",self.name)"
   ]
  },
  {
   "cell_type": "code",
   "execution_count": 37,
   "id": "dd4954c9",
   "metadata": {},
   "outputs": [
    {
     "ename": "TypeError",
     "evalue": "Can't instantiate abstract class Student with abstract method sayHello",
     "output_type": "error",
     "traceback": [
      "\u001b[1;31m---------------------------------------------------------------------------\u001b[0m",
      "\u001b[1;31mTypeError\u001b[0m                                 Traceback (most recent call last)",
      "\u001b[1;32m~\\AppData\\Local\\Temp/ipykernel_10036/4000684216.py\u001b[0m in \u001b[0;36m<module>\u001b[1;34m\u001b[0m\n\u001b[1;32m----> 1\u001b[1;33m \u001b[0ms1\u001b[0m \u001b[1;33m=\u001b[0m \u001b[0mStudent\u001b[0m\u001b[1;33m(\u001b[0m\u001b[1;34m'Divya'\u001b[0m\u001b[1;33m,\u001b[0m\u001b[1;36m1005\u001b[0m\u001b[1;33m,\u001b[0m\u001b[1;36m50\u001b[0m\u001b[1;33m)\u001b[0m\u001b[1;33m\u001b[0m\u001b[1;33m\u001b[0m\u001b[0m\n\u001b[0m",
      "\u001b[1;31mTypeError\u001b[0m: Can't instantiate abstract class Student with abstract method sayHello"
     ]
    }
   ],
   "source": [
    "s1 = Student('Divya',1005,50)"
   ]
  },
  {
   "cell_type": "code",
   "execution_count": 31,
   "id": "a7114ec5",
   "metadata": {},
   "outputs": [
    {
     "name": "stdout",
     "output_type": "stream",
     "text": [
      "Hai Student  Divya\n"
     ]
    }
   ],
   "source": [
    "s1.sayHello()"
   ]
  },
  {
   "cell_type": "code",
   "execution_count": 59,
   "id": "91b61565",
   "metadata": {},
   "outputs": [
    {
     "name": "stdout",
     "output_type": "stream",
     "text": [
      "Hello  Divya\n"
     ]
    }
   ],
   "source": [
    "s1.sayHello()"
   ]
  },
  {
   "cell_type": "code",
   "execution_count": 40,
   "id": "fd55f1fe",
   "metadata": {},
   "outputs": [
    {
     "name": "stdout",
     "output_type": "stream",
     "text": [
      "Enter NameDeepa\n",
      "Enter Id1001\n",
      "Hello  Deepa\n"
     ]
    }
   ],
   "source": [
    "name=input('Enter Name')\n",
    "id1 = int(input('Enter Id'))\n",
    "p1 = Person(name,id1)\n",
    "p1.sayHello()"
   ]
  },
  {
   "cell_type": "code",
   "execution_count": null,
   "id": "0dfb4cc4",
   "metadata": {},
   "outputs": [],
   "source": []
  }
 ],
 "metadata": {
  "kernelspec": {
   "display_name": "Python 3 (ipykernel)",
   "language": "python",
   "name": "python3"
  },
  "language_info": {
   "codemirror_mode": {
    "name": "ipython",
    "version": 3
   },
   "file_extension": ".py",
   "mimetype": "text/x-python",
   "name": "python",
   "nbconvert_exporter": "python",
   "pygments_lexer": "ipython3",
   "version": "3.9.7"
  }
 },
 "nbformat": 4,
 "nbformat_minor": 5
}
