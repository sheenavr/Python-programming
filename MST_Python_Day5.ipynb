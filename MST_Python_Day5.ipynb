{
  "nbformat": 4,
  "nbformat_minor": 0,
  "metadata": {
    "colab": {
      "provenance": [],
      "authorship_tag": "ABX9TyO2il7ZWzYBW8KY63rJyH34",
      "include_colab_link": true
    },
    "kernelspec": {
      "name": "python3",
      "display_name": "Python 3"
    },
    "language_info": {
      "name": "python"
    }
  },
  "cells": [
    {
      "cell_type": "markdown",
      "metadata": {
        "id": "view-in-github",
        "colab_type": "text"
      },
      "source": [
        "<a href=\"https://colab.research.google.com/github/sheenavr/Python-programming/blob/main/MST_Python_Day5.ipynb\" target=\"_parent\"><img src=\"https://colab.research.google.com/assets/colab-badge.svg\" alt=\"Open In Colab\"/></a>"
      ]
    },
    {
      "cell_type": "code",
      "execution_count": 1,
      "metadata": {
        "colab": {
          "base_uri": "https://localhost:8080/"
        },
        "id": "cRPt5pyT0Pnk",
        "outputId": "e3d9512a-cc73-43ad-aae0-b782a32ebd8f"
      },
      "outputs": [
        {
          "output_type": "stream",
          "name": "stdout",
          "text": [
            "I am going to call the function\n",
            "learning ptthon is fun !!!\n"
          ]
        }
      ],
      "source": [
        "# no arguments and return value\n",
        "def sample_fun():\n",
        "    print('learning ptthon is fun !!!')\n",
        "    \n",
        "print('I am going to call the function')    \n",
        "sample_fun()    \n",
        "    "
      ]
    },
    {
      "cell_type": "code",
      "source": [
        "# Passing arguments to function\n",
        "def arg_pass_fun(x):\n",
        "    print('Learning {} is full of fun'.format(x))\n",
        "    \n",
        "    \n",
        "arg_pass_fun('Python')    \n",
        "    "
      ],
      "metadata": {
        "colab": {
          "base_uri": "https://localhost:8080/"
        },
        "id": "gY24JYLZ0Yui",
        "outputId": "e6181d48-72c3-47e6-bff1-d8164e0b9e7d"
      },
      "execution_count": 2,
      "outputs": [
        {
          "output_type": "stream",
          "name": "stdout",
          "text": [
            "Learning Python is full of fun\n"
          ]
        }
      ]
    },
    {
      "cell_type": "code",
      "source": [
        "data=input(\"Enter a language\")\n",
        "arg_pass_fun(data)"
      ],
      "metadata": {
        "colab": {
          "base_uri": "https://localhost:8080/"
        },
        "id": "SX2iUSE_0cVg",
        "outputId": "ca63d551-58c4-40d2-abcf-c5e907ebdbd0"
      },
      "execution_count": 3,
      "outputs": [
        {
          "output_type": "stream",
          "name": "stdout",
          "text": [
            "Enter a languagemalayalam\n",
            "Learning malayalam is full of fun\n"
          ]
        }
      ]
    },
    {
      "cell_type": "code",
      "source": [
        "#Function returning value\n",
        "def add(a,b):\n",
        "    c=a+b\n",
        "    return c\n",
        "print('sum is',add(4,6))    \n"
      ],
      "metadata": {
        "colab": {
          "base_uri": "https://localhost:8080/"
        },
        "id": "RKjosTqk0hTC",
        "outputId": "4745beb3-06d9-4124-eb99-641efa8a4e18"
      },
      "execution_count": 4,
      "outputs": [
        {
          "output_type": "stream",
          "name": "stdout",
          "text": [
            "sum is 10\n"
          ]
        }
      ]
    },
    {
      "cell_type": "code",
      "source": [
        "#Function to display mark greater than 80 and age greater than 21 then \"selected\" else \"rejected\"\n",
        "def sel_fun():\n",
        "    mark=int(input(\"Enter the mark\"))\n",
        "    age=int(input(\"Enter the age\"))\n",
        "    if mark>80 and age>21:\n",
        "        return \"Selected\"\n",
        "    else:\n",
        "        return \"Rejected\"\n",
        "sel_fun()"
      ],
      "metadata": {
        "colab": {
          "base_uri": "https://localhost:8080/",
          "height": 70
        },
        "id": "nIaAXthC0lUc",
        "outputId": "4553fca7-cbb3-4bb0-9aa7-3eae845ef541"
      },
      "execution_count": 5,
      "outputs": [
        {
          "name": "stdout",
          "output_type": "stream",
          "text": [
            "Enter the mark23\n",
            "Enter the age21\n"
          ]
        },
        {
          "output_type": "execute_result",
          "data": {
            "text/plain": [
              "'Rejected'"
            ],
            "application/vnd.google.colaboratory.intrinsic+json": {
              "type": "string"
            }
          },
          "metadata": {},
          "execution_count": 5
        }
      ]
    },
    {
      "cell_type": "code",
      "source": [
        "#Global and local Variable\n",
        "a=10\n",
        "def var_fun():\n",
        "    a=20\n",
        "    return a\n",
        "print(\"inside the function\",var_fun())\n",
        "print('outside the function',a) "
      ],
      "metadata": {
        "colab": {
          "base_uri": "https://localhost:8080/"
        },
        "id": "b0LhK3RQ0rJZ",
        "outputId": "9830d0fd-0482-46ae-9a60-e49131c90b43"
      },
      "execution_count": 6,
      "outputs": [
        {
          "output_type": "stream",
          "name": "stdout",
          "text": [
            "inside the function 20\n",
            "outside the function 10\n"
          ]
        }
      ]
    },
    {
      "cell_type": "code",
      "source": [
        "# how to pass list to a function\n",
        "def list_fun(food):\n",
        "    print(food)\n",
        "fruit=['apple','orange','banana'] \n",
        "list_fun(fruit)"
      ],
      "metadata": {
        "colab": {
          "base_uri": "https://localhost:8080/"
        },
        "id": "Ivmaa3Hi0vDp",
        "outputId": "53b6581e-c086-4e7c-b284-4d8215fa00c1"
      },
      "execution_count": 7,
      "outputs": [
        {
          "output_type": "stream",
          "name": "stdout",
          "text": [
            "['apple', 'orange', 'banana']\n"
          ]
        }
      ]
    },
    {
      "cell_type": "code",
      "source": [
        "# pass list to a function and return only even numbers\n",
        "def even_list_fun(list_even):\n",
        "    ev_list=[]\n",
        "    for i in list_even:\n",
        "        if i%2==0:\n",
        "            ev_list.append(i)\n",
        "    return ev_list\n",
        "    \n",
        "my_list=[20,23,27,39,67,54]\n",
        "print(\"even list is\",even_list_fun(my_list))\n",
        "    "
      ],
      "metadata": {
        "colab": {
          "base_uri": "https://localhost:8080/"
        },
        "id": "ZLgLxgWR0xaz",
        "outputId": "ab3984b9-5bcd-4e71-c779-801a677052fe"
      },
      "execution_count": 8,
      "outputs": [
        {
          "output_type": "stream",
          "name": "stdout",
          "text": [
            "even list is [20, 54]\n"
          ]
        }
      ]
    },
    {
      "cell_type": "code",
      "source": [
        "n=int(input(\"enter the number of elements in the list\"))\n",
        "print(\"enter the elements\")\n",
        "list2=[]\n",
        "for i in range(n):\n",
        "    num=int(input())\n",
        "    list2.append(num)\n",
        "print(list2)\n",
        "even_list_fun(list2)\n",
        "    "
      ],
      "metadata": {
        "colab": {
          "base_uri": "https://localhost:8080/"
        },
        "id": "5WokZPiN03dA",
        "outputId": "e8cd064c-6425-445f-9480-0bedee5e0d59"
      },
      "execution_count": 9,
      "outputs": [
        {
          "output_type": "stream",
          "name": "stdout",
          "text": [
            "enter the number of elements in the list3\n",
            "enter the elements\n",
            "11\n",
            "22\n",
            "33\n",
            "[11, 22, 33]\n"
          ]
        },
        {
          "output_type": "execute_result",
          "data": {
            "text/plain": [
              "[22]"
            ]
          },
          "metadata": {},
          "execution_count": 9
        }
      ]
    },
    {
      "cell_type": "code",
      "source": [
        "#if the number of arguments are not known\n",
        "def sum_n(*num):\n",
        "    result=0\n",
        "    for i in num:\n",
        "        result+=i\n",
        "    return result \n",
        "sum_n(8,6)\n",
        "    "
      ],
      "metadata": {
        "colab": {
          "base_uri": "https://localhost:8080/"
        },
        "id": "UAqDUfEr08tj",
        "outputId": "36dbb76f-be22-4aef-dd9b-f17c4f744f21"
      },
      "execution_count": 10,
      "outputs": [
        {
          "output_type": "execute_result",
          "data": {
            "text/plain": [
              "14"
            ]
          },
          "metadata": {},
          "execution_count": 10
        }
      ]
    },
    {
      "cell_type": "code",
      "source": [
        "#Recursion: sum of n numbers\n",
        "def recurs_sum(n):\n",
        "    if n==0:\n",
        "        return 0\n",
        "    else:\n",
        "        return recurs_sum(n-1)+n\n",
        "num=(int(input(\"Enter the number\"))) \n",
        "print(\"The sum upto the number is\",recurs_sum(num))\n",
        "        "
      ],
      "metadata": {
        "colab": {
          "base_uri": "https://localhost:8080/"
        },
        "id": "hnamNK4m1AwE",
        "outputId": "de17bb4b-c87b-4084-cc85-495e867b34ca"
      },
      "execution_count": 11,
      "outputs": [
        {
          "output_type": "stream",
          "name": "stdout",
          "text": [
            "Enter the number2\n",
            "The sum upto the number is 3\n"
          ]
        }
      ]
    },
    {
      "cell_type": "code",
      "source": [
        "# Factorial of a number\n",
        "def recurs_fact(n):\n",
        "    if n<0:\n",
        "        return \"The number is negative number\"\n",
        "    elif n==0:\n",
        "        return 1\n",
        "    else:\n",
        "        return recurs_fact(n-1)*n\n",
        "num=(int(input(\"Enter the number\"))) \n",
        "print(\"The factorial of the number is\",recurs_fact(num))    "
      ],
      "metadata": {
        "colab": {
          "base_uri": "https://localhost:8080/"
        },
        "id": "1jx-bFlv1E2Z",
        "outputId": "2f0ffbdf-58ad-4a00-b1eb-d032f149075b"
      },
      "execution_count": 12,
      "outputs": [
        {
          "output_type": "stream",
          "name": "stdout",
          "text": [
            "Enter the number2\n",
            "The factorial of the number is 2\n"
          ]
        }
      ]
    },
    {
      "cell_type": "code",
      "source": [
        "# Lambda function to find the sum\n",
        "sum1=lambda a,b:a+b\n",
        "print(sum1(10,20))"
      ],
      "metadata": {
        "colab": {
          "base_uri": "https://localhost:8080/"
        },
        "id": "5p5oFUcZ1I5D",
        "outputId": "76113af3-012b-4ba4-c9e0-50b870e039b6"
      },
      "execution_count": 13,
      "outputs": [
        {
          "output_type": "stream",
          "name": "stdout",
          "text": [
            "30\n"
          ]
        }
      ]
    },
    {
      "cell_type": "code",
      "source": [
        "#largest among 2 numbers\n",
        "lar=lambda a,b:a if a>b else b\n",
        "print(\"largest number is\",lar(56,99))\n"
      ],
      "metadata": {
        "colab": {
          "base_uri": "https://localhost:8080/"
        },
        "id": "_umZCQkW1MjN",
        "outputId": "d80934a3-36be-430a-b0f1-69784ee4e38f"
      },
      "execution_count": 14,
      "outputs": [
        {
          "output_type": "stream",
          "name": "stdout",
          "text": [
            "largest number is 99\n"
          ]
        }
      ]
    },
    {
      "cell_type": "code",
      "source": [
        "# even or odd\n",
        "num_type=lambda a: 'even' if a%2==0 else 'odd'\n",
        "print(\"the type of the number is\",num_type(75))"
      ],
      "metadata": {
        "colab": {
          "base_uri": "https://localhost:8080/"
        },
        "id": "qArpOrFQ1QGr",
        "outputId": "7bb3421c-5664-4fa5-894a-75baf350b9bb"
      },
      "execution_count": 15,
      "outputs": [
        {
          "output_type": "stream",
          "name": "stdout",
          "text": [
            "the type of the number is odd\n"
          ]
        }
      ]
    },
    {
      "cell_type": "code",
      "source": [
        "list1=[(lambda x: x*x)(x) for x in range(10)]\n",
        "print(list1)\n"
      ],
      "metadata": {
        "colab": {
          "base_uri": "https://localhost:8080/"
        },
        "id": "GsBCGd7K1TmA",
        "outputId": "1544edf0-59c5-43b0-ed00-090af8be663f"
      },
      "execution_count": 16,
      "outputs": [
        {
          "output_type": "stream",
          "name": "stdout",
          "text": [
            "[0, 1, 4, 9, 16, 25, 36, 49, 64, 81]\n"
          ]
        }
      ]
    },
    {
      "cell_type": "code",
      "source": [
        "list1=[(lambda x:x**2)(x) for x in range(1,5)]\n",
        "print(list1)"
      ],
      "metadata": {
        "colab": {
          "base_uri": "https://localhost:8080/"
        },
        "id": "vbaMuNYv1akO",
        "outputId": "c24482c7-10c6-4edd-8a48-8c6dd744bf8c"
      },
      "execution_count": 17,
      "outputs": [
        {
          "output_type": "stream",
          "name": "stdout",
          "text": [
            "[1, 4, 9, 16]\n"
          ]
        }
      ]
    }
  ]
}