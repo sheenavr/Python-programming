{
  "nbformat": 4,
  "nbformat_minor": 0,
  "metadata": {
    "colab": {
      "provenance": [],
      "authorship_tag": "ABX9TyM/uWMybMDiIbDyQDO3QzyL",
      "include_colab_link": true
    },
    "kernelspec": {
      "name": "python3",
      "display_name": "Python 3"
    },
    "language_info": {
      "name": "python"
    }
  },
  "cells": [
    {
      "cell_type": "markdown",
      "metadata": {
        "id": "view-in-github",
        "colab_type": "text"
      },
      "source": [
        "<a href=\"https://colab.research.google.com/github/sheenavr/Python-programming/blob/main/MST_Day1_Handson.ipynb\" target=\"_parent\"><img src=\"https://colab.research.google.com/assets/colab-badge.svg\" alt=\"Open In Colab\"/></a>"
      ]
    },
    {
      "cell_type": "markdown",
      "source": [
        "**Introducttion to Python**"
      ],
      "metadata": {
        "id": "n5xinIhgMWGD"
      }
    },
    {
      "cell_type": "code",
      "source": [
        "len([\"hello\",2, 4, 6])"
      ],
      "metadata": {
        "id": "2Ni8feePzVRr",
        "outputId": "4539adda-7958-4f69-f9fb-d937a0da673a",
        "colab": {
          "base_uri": "https://localhost:8080/"
        }
      },
      "execution_count": null,
      "outputs": [
        {
          "output_type": "execute_result",
          "data": {
            "text/plain": [
              "4"
            ]
          },
          "metadata": {},
          "execution_count": 1
        }
      ]
    },
    {
      "cell_type": "code",
      "source": [
        "print(\"Hello World\")"
      ],
      "metadata": {
        "colab": {
          "base_uri": "https://localhost:8080/"
        },
        "id": "YVE72ftGMd2s",
        "outputId": "cc6861b6-17a3-482c-91bc-c6df8f13459b"
      },
      "execution_count": null,
      "outputs": [
        {
          "output_type": "stream",
          "name": "stdout",
          "text": [
            "Hello World\n"
          ]
        }
      ]
    },
    {
      "cell_type": "code",
      "source": [
        "print(233)\n",
        "print(4.9)"
      ],
      "metadata": {
        "colab": {
          "base_uri": "https://localhost:8080/"
        },
        "id": "Zy1G8RK7NLz5",
        "outputId": "654d52dc-73d6-4f2c-d8b0-74b86949451b"
      },
      "execution_count": null,
      "outputs": [
        {
          "output_type": "stream",
          "name": "stdout",
          "text": [
            "233\n",
            "4.9\n"
          ]
        }
      ]
    },
    {
      "cell_type": "code",
      "source": [
        "print(\"welcome to\",end=' ')\n",
        "print(\"python programming\")"
      ],
      "metadata": {
        "colab": {
          "base_uri": "https://localhost:8080/"
        },
        "id": "G-w2JyK_OgTJ",
        "outputId": "26c4864a-8e39-4a69-9936-ddc6a825dfcf"
      },
      "execution_count": null,
      "outputs": [
        {
          "output_type": "stream",
          "name": "stdout",
          "text": [
            "welcome to python programming\n"
          ]
        }
      ]
    },
    {
      "cell_type": "code",
      "source": [
        "print(\"welcome to\",end=' ')\n",
        "print(\"the world of Python\",end='!!')"
      ],
      "metadata": {
        "colab": {
          "base_uri": "https://localhost:8080/"
        },
        "id": "RhezDhFRPSxd",
        "outputId": "b819fc24-4cba-44bb-8934-819889cc2d1d"
      },
      "execution_count": null,
      "outputs": [
        {
          "output_type": "stream",
          "name": "stdout",
          "text": [
            "welcome to the world of Python!!"
          ]
        }
      ]
    },
    {
      "cell_type": "code",
      "source": [
        "print(\"\\\"Welcome to the world of Python\\\"\")"
      ],
      "metadata": {
        "colab": {
          "base_uri": "https://localhost:8080/"
        },
        "id": "RTHJg_fHPmX2",
        "outputId": "8e04f256-272d-42a8-d14c-bfcd1fa1c3ac"
      },
      "execution_count": null,
      "outputs": [
        {
          "output_type": "stream",
          "name": "stdout",
          "text": [
            "\"Welcome to the world of Python\"\n"
          ]
        }
      ]
    },
    {
      "cell_type": "code",
      "source": [
        "age=12\n",
        "name=\"BOB\"\n",
        "ishappy=True\n",
        "print(name)\n",
        "print(ishappy)\n",
        "print(age)\n",
        "type(age)"
      ],
      "metadata": {
        "colab": {
          "base_uri": "https://localhost:8080/"
        },
        "id": "oAoM25BdSppB",
        "outputId": "a6f41b6f-53fc-4ced-ee45-712e93a65031"
      },
      "execution_count": null,
      "outputs": [
        {
          "output_type": "stream",
          "name": "stdout",
          "text": [
            "BOB\n",
            "True\n",
            "12\n"
          ]
        },
        {
          "output_type": "execute_result",
          "data": {
            "text/plain": [
              "int"
            ]
          },
          "metadata": {},
          "execution_count": 12
        }
      ]
    },
    {
      "cell_type": "code",
      "source": [],
      "metadata": {
        "id": "OdYo1xNia20E"
      },
      "execution_count": null,
      "outputs": []
    },
    {
      "cell_type": "code",
      "source": [
        "fred=200\n",
        "John=fred\n",
        "print(John)"
      ],
      "metadata": {
        "colab": {
          "base_uri": "https://localhost:8080/"
        },
        "id": "ItymTGDdUT6V",
        "outputId": "0a3cf71a-81d6-4deb-a254-8fbcdf2e549b"
      },
      "execution_count": null,
      "outputs": [
        {
          "output_type": "stream",
          "name": "stdout",
          "text": [
            "200\n"
          ]
        }
      ]
    },
    {
      "cell_type": "code",
      "source": [
        "Item_name=\"Computer\" #A string\n",
        "Item_qty=10\n",
        "Item_value=100.23\n",
        "print(Item_name)\n",
        "print(Item_qty)\n",
        "print(Item_value)"
      ],
      "metadata": {
        "colab": {
          "base_uri": "https://localhost:8080/"
        },
        "id": "wBohyULpU81Z",
        "outputId": "bebf9482-c990-43e1-a82f-f8ae90be252e"
      },
      "execution_count": null,
      "outputs": [
        {
          "output_type": "stream",
          "name": "stdout",
          "text": [
            "Computer\n",
            "10\n",
            "100.23\n"
          ]
        }
      ]
    },
    {
      "cell_type": "code",
      "source": [
        "x=y=z=1\n",
        "print(x,y,z)"
      ],
      "metadata": {
        "colab": {
          "base_uri": "https://localhost:8080/"
        },
        "id": "_sgqvuI9VslZ",
        "outputId": "15b23e4a-198a-415c-cb0b-9d71387a698a"
      },
      "execution_count": null,
      "outputs": [
        {
          "output_type": "stream",
          "name": "stdout",
          "text": [
            "1 1 1\n"
          ]
        }
      ]
    },
    {
      "cell_type": "code",
      "source": [
        "x,y,z=1,1.345,\"Hai\"\n",
        "print(x,y,z)"
      ],
      "metadata": {
        "colab": {
          "base_uri": "https://localhost:8080/"
        },
        "id": "3lm9HDs6V4wu",
        "outputId": "1e3d1824-8d3b-4eae-aa5d-7d89bee3a110"
      },
      "execution_count": null,
      "outputs": [
        {
          "output_type": "stream",
          "name": "stdout",
          "text": [
            "1 1.345 Hai\n"
          ]
        }
      ]
    },
    {
      "cell_type": "code",
      "source": [
        "p=10\n",
        "q=10.55\n",
        "r=1+2j\n",
        "print(p,q,r)\n",
        "type(p)\n",
        "print(type(p))"
      ],
      "metadata": {
        "colab": {
          "base_uri": "https://localhost:8080/"
        },
        "id": "9V9yNzYja5bb",
        "outputId": "5e6867ed-fd7a-48d5-88e8-142142abbdf6"
      },
      "execution_count": null,
      "outputs": [
        {
          "output_type": "stream",
          "name": "stdout",
          "text": [
            "10 10.55 (1+2j)\n",
            "<class 'int'>\n"
          ]
        }
      ]
    },
    {
      "cell_type": "code",
      "source": [
        "d=10\n",
        "e=float(10)\n",
        "print(d)\n",
        "print(e)"
      ],
      "metadata": {
        "colab": {
          "base_uri": "https://localhost:8080/"
        },
        "id": "zejrPKbMb8nu",
        "outputId": "9db42682-f9a8-49b4-d73a-1bc2b6799adf"
      },
      "execution_count": null,
      "outputs": [
        {
          "output_type": "stream",
          "name": "stdout",
          "text": [
            "10\n",
            "10.0\n"
          ]
        }
      ]
    },
    {
      "cell_type": "code",
      "source": [
        "print(int(12.35))"
      ],
      "metadata": {
        "colab": {
          "base_uri": "https://localhost:8080/"
        },
        "id": "JqcwV7PqcYnt",
        "outputId": "179de608-15f3-4f90-a9fe-9852b7a77889"
      },
      "execution_count": null,
      "outputs": [
        {
          "output_type": "stream",
          "name": "stdout",
          "text": [
            "12\n"
          ]
        }
      ]
    },
    {
      "cell_type": "code",
      "source": [
        "x=complex(1,2)\n",
        "print(x)\n",
        "type(x)"
      ],
      "metadata": {
        "colab": {
          "base_uri": "https://localhost:8080/"
        },
        "id": "zhHKPFd6cqGu",
        "outputId": "863cdc9e-3c3a-4f27-e905-49c1a7be63bb"
      },
      "execution_count": null,
      "outputs": [
        {
          "output_type": "stream",
          "name": "stdout",
          "text": [
            "(1+2j)\n"
          ]
        },
        {
          "output_type": "execute_result",
          "data": {
            "text/plain": [
              "complex"
            ]
          },
          "metadata": {},
          "execution_count": 32
        }
      ]
    },
    {
      "cell_type": "code",
      "source": [
        "var1=input(\"Enter a Number\")\n",
        "print(var1)\n"
      ],
      "metadata": {
        "colab": {
          "base_uri": "https://localhost:8080/"
        },
        "id": "q9RNw6gddGVz",
        "outputId": "ce43297c-cfe0-45ed-8e0d-d82b353d10b0"
      },
      "execution_count": null,
      "outputs": [
        {
          "output_type": "stream",
          "name": "stdout",
          "text": [
            "Enter a Number22\n",
            "22\n"
          ]
        }
      ]
    },
    {
      "cell_type": "code",
      "source": [
        "var1=float(input(\"Enter the Number\"))\n",
        "print(var1)\n",
        "type(var1)"
      ],
      "metadata": {
        "colab": {
          "base_uri": "https://localhost:8080/"
        },
        "id": "ej8xhxcSd7kg",
        "outputId": "f830bf8d-3418-49d7-a23e-6e8b31b60008"
      },
      "execution_count": null,
      "outputs": [
        {
          "output_type": "stream",
          "name": "stdout",
          "text": [
            "Enter the Number22\n",
            "22.0\n"
          ]
        },
        {
          "output_type": "execute_result",
          "data": {
            "text/plain": [
              "float"
            ]
          },
          "metadata": {},
          "execution_count": 36
        }
      ]
    },
    {
      "cell_type": "code",
      "source": [
        "name=\"Ally Alien\\n\"\n",
        "greeting=\" Welcome to Earth\"\n",
        "print(\"The message is \"+name+greeting)"
      ],
      "metadata": {
        "colab": {
          "base_uri": "https://localhost:8080/"
        },
        "id": "eAMaI006fAD_",
        "outputId": "d5aebc37-41a8-4f66-c4eb-47cc0bb6d948"
      },
      "execution_count": null,
      "outputs": [
        {
          "output_type": "stream",
          "name": "stdout",
          "text": [
            "The message is Ally Alien\n",
            " Welcome to Earth\n"
          ]
        }
      ]
    },
    {
      "cell_type": "code",
      "source": [
        "print(\"python\\n\"*3)"
      ],
      "metadata": {
        "colab": {
          "base_uri": "https://localhost:8080/"
        },
        "id": "KIQoY3qJhliV",
        "outputId": "b72d9d59-340b-45ed-fdd3-4533c013fab6"
      },
      "execution_count": null,
      "outputs": [
        {
          "output_type": "stream",
          "name": "stdout",
          "text": [
            "python\n",
            "python\n",
            "python\n",
            "\n"
          ]
        }
      ]
    },
    {
      "cell_type": "code",
      "source": [
        "first_name=input(\"Enter your First Name\")\n",
        "second_name=input(\"Enter the second name\")\n",
        "print(\"Hello \"+first_name+\" \"+second_name)"
      ],
      "metadata": {
        "colab": {
          "base_uri": "https://localhost:8080/"
        },
        "id": "H9Sf9RiWiLOT",
        "outputId": "e3ba0c3b-aaaf-494f-8fa6-7b91cec7f1c3"
      },
      "execution_count": null,
      "outputs": [
        {
          "output_type": "stream",
          "name": "stdout",
          "text": [
            "Enter your First NameSheena\n",
            "Enter the second nameViswanathan\n",
            "Hello Sheena Viswanathan\n"
          ]
        }
      ]
    },
    {
      "cell_type": "code",
      "source": [
        "str=\"Python\"\n",
        "\n",
        "print(str[-6])\n",
        "print(len(str))\n",
        "print(str[-len(str)])\n",
        "print(str[0:4])\n",
        "print(str[:5])\n",
        "print(str[-5:-2])\n",
        "print(str[0:6:2])\n",
        "print(str[-4:-1])\n",
        "print(str[0:5:2])\n",
        "print(str[-1:-4:-1])"
      ],
      "metadata": {
        "colab": {
          "base_uri": "https://localhost:8080/"
        },
        "id": "Vo5eSs-LlTWh",
        "outputId": "c0ced4cb-bf7a-46f1-dc69-97f95de670d9"
      },
      "execution_count": null,
      "outputs": [
        {
          "output_type": "stream",
          "name": "stdout",
          "text": [
            "P\n",
            "6\n",
            "P\n",
            "Pyth\n",
            "Pytho\n",
            "yth\n",
            "Pto\n",
            "tho\n",
            "Pto\n",
            "noh\n"
          ]
        }
      ]
    },
    {
      "cell_type": "code",
      "source": [
        "s=\"python\"\n",
        "s1=\"PYTHON\"\n",
        "print(s.capitalize())\n",
        "print(s1.lower())\n",
        "print(s.upper())\n",
        "print(s1.swapcase())"
      ],
      "metadata": {
        "colab": {
          "base_uri": "https://localhost:8080/"
        },
        "id": "wMJYE4djNfDB",
        "outputId": "dc55475a-4473-41dd-f509-e17d329cddcd"
      },
      "execution_count": null,
      "outputs": [
        {
          "output_type": "stream",
          "name": "stdout",
          "text": [
            "Python\n",
            "python\n",
            "PYTHON\n",
            "python\n"
          ]
        }
      ]
    },
    {
      "cell_type": "code",
      "source": [
        "x=True\n",
        "print(type(x))"
      ],
      "metadata": {
        "colab": {
          "base_uri": "https://localhost:8080/"
        },
        "id": "O9LGltbjOvCS",
        "outputId": "c31635a1-f687-4895-e0bc-c5a24a9bc0d2"
      },
      "execution_count": null,
      "outputs": [
        {
          "output_type": "stream",
          "name": "stdout",
          "text": [
            "<class 'bool'>\n"
          ]
        }
      ]
    },
    {
      "cell_type": "code",
      "source": [
        "print(float(\"4.5\"))\n",
        "print(int(5.09))\n",
        "print(int(True))\n",
        "print(bool(0))\n",
        "print(float(False))\n",
        "print(bool(\"Hello\"))"
      ],
      "metadata": {
        "colab": {
          "base_uri": "https://localhost:8080/"
        },
        "id": "hsYj9djFPQ1f",
        "outputId": "02697d31-c117-4c15-874d-60f55acb79ae"
      },
      "execution_count": null,
      "outputs": [
        {
          "output_type": "stream",
          "name": "stdout",
          "text": [
            "4.5\n",
            "5\n",
            "1\n",
            "False\n",
            "0.0\n",
            "True\n"
          ]
        }
      ]
    }
  ]
}