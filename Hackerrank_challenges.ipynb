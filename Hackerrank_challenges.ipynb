{
  "nbformat": 4,
  "nbformat_minor": 0,
  "metadata": {
    "colab": {
      "provenance": [],
      "authorship_tag": "ABX9TyM3v6kVrhE48P4iXyxaLSv8",
      "include_colab_link": true
    },
    "kernelspec": {
      "name": "python3",
      "display_name": "Python 3"
    },
    "language_info": {
      "name": "python"
    }
  },
  "cells": [
    {
      "cell_type": "markdown",
      "metadata": {
        "id": "view-in-github",
        "colab_type": "text"
      },
      "source": [
        "<a href=\"https://colab.research.google.com/github/sheenavr/Python-programming/blob/main/Hackerrank_challenges.ipynb\" target=\"_parent\"><img src=\"https://colab.research.google.com/assets/colab-badge.svg\" alt=\"Open In Colab\"/></a>"
      ]
    },
    {
      "cell_type": "code",
      "execution_count": 1,
      "metadata": {
        "colab": {
          "base_uri": "https://localhost:8080/"
        },
        "id": "LOuX3JLmUviV",
        "outputId": "4b6e9e27-f3ef-4da8-a07a-bc98ca041169"
      },
      "outputs": [
        {
          "output_type": "stream",
          "name": "stdout",
          "text": [
            "5\n",
            "[0, 1, 1, 8, 27]\n"
          ]
        }
      ],
      "source": [
        "cube = lambda x: x**3\n",
        "\n",
        "def fibonacci(n):\n",
        "    a=0\n",
        "    b=1\n",
        "    new_list=[]\n",
        "    if n==0:\n",
        "        pass\n",
        "    elif n==1:\n",
        "        new_list.append(a)\n",
        "    else:\n",
        "        new_list.append(a)\n",
        "        new_list.append(b)\n",
        "        for i in range(2,n):\n",
        "            c=a+b\n",
        "            a=b\n",
        "            b=c\n",
        "            new_list.append(c)\n",
        "    return new_list\n",
        "\n",
        "\n",
        "if __name__ == '__main__':\n",
        "    n = int(input())\n",
        "    print(list(map(cube, fibonacci(n))))"
      ]
    }
  ]
}