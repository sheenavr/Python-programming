{
  "nbformat": 4,
  "nbformat_minor": 0,
  "metadata": {
    "colab": {
      "provenance": [],
      "authorship_tag": "ABX9TyMz6s9BBSTrHoSW44rQSGqx",
      "include_colab_link": true
    },
    "kernelspec": {
      "name": "python3",
      "display_name": "Python 3"
    },
    "language_info": {
      "name": "python"
    }
  },
  "cells": [
    {
      "cell_type": "markdown",
      "metadata": {
        "id": "view-in-github",
        "colab_type": "text"
      },
      "source": [
        "<a href=\"https://colab.research.google.com/github/sheenavr/Python-programming/blob/main/MST_Python_Day4.ipynb\" target=\"_parent\"><img src=\"https://colab.research.google.com/assets/colab-badge.svg\" alt=\"Open In Colab\"/></a>"
      ]
    },
    {
      "cell_type": "code",
      "execution_count": null,
      "metadata": {
        "colab": {
          "base_uri": "https://localhost:8080/"
        },
        "id": "reuBTuakPPWv",
        "outputId": "5a0830b8-e899-4a46-8d46-254a0533938a"
      },
      "outputs": [
        {
          "output_type": "execute_result",
          "data": {
            "text/plain": [
              "True"
            ]
          },
          "metadata": {},
          "execution_count": 1
        }
      ],
      "source": [
        "l=[5,6,7]\n",
        "6 in l"
      ]
    },
    {
      "cell_type": "code",
      "source": [
        "9 in l"
      ],
      "metadata": {
        "colab": {
          "base_uri": "https://localhost:8080/"
        },
        "id": "ZQEAdhZUPxtD",
        "outputId": "4eddbbc7-ce0a-419e-9e1d-9f8791cd4d3e"
      },
      "execution_count": null,
      "outputs": [
        {
          "output_type": "execute_result",
          "data": {
            "text/plain": [
              "False"
            ]
          },
          "metadata": {},
          "execution_count": 2
        }
      ]
    },
    {
      "cell_type": "code",
      "source": [
        "s='hello'\n",
        "'d' not in s"
      ],
      "metadata": {
        "colab": {
          "base_uri": "https://localhost:8080/"
        },
        "id": "bLxjr8H6P1bX",
        "outputId": "d1647a60-0afa-449f-ebff-63e504a897e3"
      },
      "execution_count": null,
      "outputs": [
        {
          "output_type": "execute_result",
          "data": {
            "text/plain": [
              "True"
            ]
          },
          "metadata": {},
          "execution_count": 3
        }
      ]
    },
    {
      "cell_type": "code",
      "source": [
        "'h' in s"
      ],
      "metadata": {
        "colab": {
          "base_uri": "https://localhost:8080/"
        },
        "id": "W9RCIdt9QBbD",
        "outputId": "ce305d6d-ddb2-4660-b3ed-8bacf7810632"
      },
      "execution_count": null,
      "outputs": [
        {
          "output_type": "execute_result",
          "data": {
            "text/plain": [
              "True"
            ]
          },
          "metadata": {},
          "execution_count": 4
        }
      ]
    },
    {
      "cell_type": "code",
      "source": [
        "l=[3,6,7,8,9]\n",
        "for i in l:\n",
        "  print(i)"
      ],
      "metadata": {
        "colab": {
          "base_uri": "https://localhost:8080/"
        },
        "id": "jOiDvg8FSv9U",
        "outputId": "054d5501-93ea-4fcd-8f6e-7b5497b1c84a"
      },
      "execution_count": null,
      "outputs": [
        {
          "output_type": "stream",
          "name": "stdout",
          "text": [
            "3\n",
            "6\n",
            "7\n",
            "8\n",
            "9\n"
          ]
        }
      ]
    },
    {
      "cell_type": "code",
      "source": [
        "l=list(range(1,20))\n",
        "l"
      ],
      "metadata": {
        "colab": {
          "base_uri": "https://localhost:8080/"
        },
        "id": "JrX0Vsp0U64Z",
        "outputId": "5e71dce0-c42b-428f-9b02-a13bc13d25c6"
      },
      "execution_count": null,
      "outputs": [
        {
          "output_type": "execute_result",
          "data": {
            "text/plain": [
              "[1, 2, 3, 4, 5, 6, 7, 8, 9, 10, 11, 12, 13, 14, 15, 16, 17, 18, 19]"
            ]
          },
          "metadata": {},
          "execution_count": 6
        }
      ]
    },
    {
      "cell_type": "code",
      "source": [
        "l=list(range(20,2,-1))\n",
        "l"
      ],
      "metadata": {
        "colab": {
          "base_uri": "https://localhost:8080/"
        },
        "id": "a0LyVKgiVF-Z",
        "outputId": "733ab926-b4ae-4eae-d3aa-b3123f5a9110"
      },
      "execution_count": null,
      "outputs": [
        {
          "output_type": "execute_result",
          "data": {
            "text/plain": [
              "[20, 19, 18, 17, 16, 15, 14, 13, 12, 11, 10, 9, 8, 7, 6, 5, 4, 3]"
            ]
          },
          "metadata": {},
          "execution_count": 7
        }
      ]
    },
    {
      "cell_type": "code",
      "source": [
        "for i in range(1,10,2):\n",
        "  print(i) "
      ],
      "metadata": {
        "colab": {
          "base_uri": "https://localhost:8080/"
        },
        "id": "_Bc3KKELVhFB",
        "outputId": "6fd8ee23-6517-481b-aeae-2ed9b3ec79c4"
      },
      "execution_count": null,
      "outputs": [
        {
          "output_type": "stream",
          "name": "stdout",
          "text": [
            "1\n",
            "3\n",
            "5\n",
            "7\n",
            "9\n"
          ]
        }
      ]
    },
    {
      "cell_type": "code",
      "source": [
        "#print all numbers in reverse order\n",
        "for i in range(10,0,-1):\n",
        "    print(i)"
      ],
      "metadata": {
        "colab": {
          "base_uri": "https://localhost:8080/"
        },
        "id": "YDcg3YGoV3bZ",
        "outputId": "f9cf0f91-8140-4642-ddc5-4daecac1e033"
      },
      "execution_count": null,
      "outputs": [
        {
          "output_type": "stream",
          "name": "stdout",
          "text": [
            "10\n",
            "9\n",
            "8\n",
            "7\n",
            "6\n",
            "5\n",
            "4\n",
            "3\n",
            "2\n",
            "1\n"
          ]
        }
      ]
    },
    {
      "cell_type": "code",
      "source": [
        "#print square of numbers from 1 to 10\n",
        "for i in range(1,11,1):\n",
        "  print(i**2)"
      ],
      "metadata": {
        "colab": {
          "base_uri": "https://localhost:8080/"
        },
        "id": "Va9cy_8DWMAZ",
        "outputId": "a3af3ce6-acb7-4cd1-d842-07cc792b4f89"
      },
      "execution_count": null,
      "outputs": [
        {
          "output_type": "stream",
          "name": "stdout",
          "text": [
            "1\n",
            "4\n",
            "9\n",
            "16\n",
            "25\n",
            "36\n",
            "49\n",
            "64\n",
            "81\n",
            "100\n"
          ]
        }
      ]
    },
    {
      "cell_type": "code",
      "source": [
        "#print all numbers divisible by 3 from 1 to 51\n",
        "for i in range(1,52):\n",
        "  if i%3==0:\n",
        "    print(i)"
      ],
      "metadata": {
        "colab": {
          "base_uri": "https://localhost:8080/"
        },
        "id": "I-Oi6A2-WgYh",
        "outputId": "04c37c0d-ff2b-4891-c667-e3597892bbc7"
      },
      "execution_count": null,
      "outputs": [
        {
          "output_type": "stream",
          "name": "stdout",
          "text": [
            "3\n",
            "6\n",
            "9\n",
            "12\n",
            "15\n",
            "18\n",
            "21\n",
            "24\n",
            "27\n",
            "30\n",
            "33\n",
            "36\n",
            "39\n",
            "42\n",
            "45\n",
            "48\n",
            "51\n"
          ]
        }
      ]
    },
    {
      "cell_type": "code",
      "source": [
        "#Read a list of numbers from user and find the sum\n",
        "sum=0\n",
        "limit=int(input(\"Enter the limit\"))\n",
        "for i in range(limit):\n",
        "  num=int(input())\n",
        "  sum=sum+num\n",
        "print(\"Sum is:\",sum)  \n"
      ],
      "metadata": {
        "colab": {
          "base_uri": "https://localhost:8080/"
        },
        "id": "BTKoJrnVXD55",
        "outputId": "78a7fa73-ea85-4e54-87df-a3d52fc490d9"
      },
      "execution_count": null,
      "outputs": [
        {
          "output_type": "stream",
          "name": "stdout",
          "text": [
            "Enter the limit2\n",
            "11\n",
            "22\n",
            "Sum is: 33\n"
          ]
        }
      ]
    },
    {
      "cell_type": "code",
      "source": [
        "l=int(input(\"Enter the limit\"))\n",
        "sum=0\n",
        "new_list=[]\n",
        "for i in range(l):\n",
        "  num=int(input())\n",
        "  new_list.append(num)\n",
        "for val in   new_list:\n",
        "  sum=sum+val\n",
        "\n",
        "print(new_list)\n",
        "print(\"sum is:\",sum)"
      ],
      "metadata": {
        "colab": {
          "base_uri": "https://localhost:8080/"
        },
        "id": "YdmWAVaXaAZQ",
        "outputId": "87f5672e-2a9f-464e-f1cd-dcd3666777c2"
      },
      "execution_count": null,
      "outputs": [
        {
          "output_type": "stream",
          "name": "stdout",
          "text": [
            "Enter the limit5\n",
            "11\n",
            "22\n",
            "33\n",
            "44\n",
            "55\n",
            "[11, 22, 33, 44, 55]\n",
            "sum is: 165\n"
          ]
        }
      ]
    },
    {
      "cell_type": "code",
      "source": [
        "fruits=['apple','mango','cherry']\n",
        "for l in fruits:\n",
        "  print(l,end=' ')"
      ],
      "metadata": {
        "colab": {
          "base_uri": "https://localhost:8080/"
        },
        "id": "y_5iseDOcF9X",
        "outputId": "97162450-2f8a-4fc9-a5e1-719ed1f865d2"
      },
      "execution_count": null,
      "outputs": [
        {
          "output_type": "stream",
          "name": "stdout",
          "text": [
            "apple mango cherry "
          ]
        }
      ]
    },
    {
      "cell_type": "code",
      "source": [
        "s='I am Learning Python'\n",
        "for i in s:\n",
        "  print(i,end=\" \")"
      ],
      "metadata": {
        "colab": {
          "base_uri": "https://localhost:8080/"
        },
        "id": "Sj09iuqec4D9",
        "outputId": "b36ef100-8842-4abc-c110-3d2a363dfc75"
      },
      "execution_count": null,
      "outputs": [
        {
          "output_type": "stream",
          "name": "stdout",
          "text": [
            "I   a m   L e a r n i n g   P y t h o n "
          ]
        }
      ]
    },
    {
      "cell_type": "code",
      "source": [
        "a=1\n",
        "while a<10:\n",
        "  print(a)\n",
        "  a+=2"
      ],
      "metadata": {
        "colab": {
          "base_uri": "https://localhost:8080/"
        },
        "id": "_j0dn9fFe9UQ",
        "outputId": "5853521a-d7b7-45d5-bcf7-c987b5886565"
      },
      "execution_count": null,
      "outputs": [
        {
          "output_type": "stream",
          "name": "stdout",
          "text": [
            "1\n",
            "3\n",
            "5\n",
            "7\n",
            "9\n"
          ]
        }
      ]
    },
    {
      "cell_type": "code",
      "source": [
        "#sum of first hundred numbers\n",
        "sum=0\n",
        "start=1\n",
        "while(start<=100):\n",
        "  sum=sum+start\n",
        "  start+=1\n",
        "print(\"sum is:\",sum)  "
      ],
      "metadata": {
        "colab": {
          "base_uri": "https://localhost:8080/"
        },
        "id": "PndI2iCXf6QD",
        "outputId": "745afe69-8fc5-4502-b40c-6c711d8660f1"
      },
      "execution_count": null,
      "outputs": [
        {
          "output_type": "stream",
          "name": "stdout",
          "text": [
            "sum is: 5050\n"
          ]
        }
      ]
    },
    {
      "cell_type": "code",
      "source": [
        "#basic interactive code  -- Infinite loop\n",
        "print(\"Welcome to ICTK\")\n",
        "while True:\n",
        "  x=input(\"Enter Quit to stop\")\n",
        "  x=x.lower()\n",
        "  if x=='quit':\n",
        "    print(\"see you later\")\n",
        "    break;\n",
        "  y=x.split()\n",
        "  if(len(y)==0):\n",
        "    print(\"enter a valid input\")\n",
        "  elif 'morning' in y:\n",
        "    print(\"good Morning\")\n",
        "  elif 'course' in y:\n",
        "    print(\"visit the website\")\n",
        "  elif 'python' in y:\n",
        "    print(\"Yes we have python course\")\n",
        "  else :\n",
        "    print(\"please use another option\")  \n",
        "\n",
        "\n"
      ],
      "metadata": {
        "colab": {
          "base_uri": "https://localhost:8080/"
        },
        "id": "yTsgOFhJhFwO",
        "outputId": "2b68b7cb-783b-4d56-cebe-c1b609c409ac"
      },
      "execution_count": null,
      "outputs": [
        {
          "output_type": "stream",
          "name": "stdout",
          "text": [
            "Welcome to ICTK\n",
            "Enter Quit to stopgood morning\n",
            "good Morning\n",
            "Enter Quit to stopdo you have python\n",
            "Yes we have python course\n",
            "Enter Quit to stopquit\n",
            "see you later\n"
          ]
        }
      ]
    },
    {
      "cell_type": "code",
      "source": [
        "for i in range(10):\n",
        "  print(i)\n",
        "  if i==5:\n",
        "    break\n",
        "print(\"execution completed\")    \n"
      ],
      "metadata": {
        "colab": {
          "base_uri": "https://localhost:8080/"
        },
        "id": "CGxEh7Y_nm4I",
        "outputId": "11d13426-3de2-47b7-b27c-100b8055e4e9"
      },
      "execution_count": null,
      "outputs": [
        {
          "output_type": "stream",
          "name": "stdout",
          "text": [
            "0\n",
            "1\n",
            "2\n",
            "3\n",
            "4\n",
            "5\n",
            "execution completed\n"
          ]
        }
      ]
    },
    {
      "cell_type": "code",
      "source": [
        "for i in range(10):\n",
        "  \n",
        "  if i==5:\n",
        "    continue\n",
        "  print(i)    \n",
        "print(\"execution completed\")    \n"
      ],
      "metadata": {
        "colab": {
          "base_uri": "https://localhost:8080/"
        },
        "id": "e1ediLAMn1Od",
        "outputId": "e6bda0ab-61fb-43d6-b29d-e5d5d2c90027"
      },
      "execution_count": null,
      "outputs": [
        {
          "output_type": "stream",
          "name": "stdout",
          "text": [
            "0\n",
            "1\n",
            "2\n",
            "3\n",
            "4\n",
            "6\n",
            "7\n",
            "8\n",
            "9\n",
            "execution completed\n"
          ]
        }
      ]
    },
    {
      "cell_type": "code",
      "source": [
        "#check weather the number is prime\n",
        "n=int(input(\"Enter the number\"))\n",
        "if(n>1):  \n",
        "  for i in range(2,n):\n",
        "    if(n%i==0):\n",
        "       print (\"number is not prime\")  \n",
        "       break\n",
        "    else:\n",
        "      print(\"the number is prime\")\n",
        "      break\n",
        "else:  \n",
        "  print (\"number is not positive\")  \n"
      ],
      "metadata": {
        "colab": {
          "base_uri": "https://localhost:8080/"
        },
        "id": "_Vq9yDSNoXIE",
        "outputId": "274753e3-570e-4729-91cb-11412f476795"
      },
      "execution_count": null,
      "outputs": [
        {
          "output_type": "stream",
          "name": "stdout",
          "text": [
            "Enter the number44\n",
            "number is not prime\n"
          ]
        }
      ]
    },
    {
      "cell_type": "code",
      "source": [],
      "metadata": {
        "id": "K0nW1DDMss-9"
      },
      "execution_count": null,
      "outputs": []
    },
    {
      "cell_type": "code",
      "source": [
        "#print multiplication table\n",
        "for i in range(1,11):\n",
        "  print('5*',i,'=',5*i)\n"
      ],
      "metadata": {
        "colab": {
          "base_uri": "https://localhost:8080/"
        },
        "id": "POoqP3X1qnan",
        "outputId": "9b403d1d-9f43-4e88-afe9-0d3f12cf8d5a"
      },
      "execution_count": null,
      "outputs": [
        {
          "output_type": "stream",
          "name": "stdout",
          "text": [
            "5* 1 = 5\n",
            "5* 2 = 10\n",
            "5* 3 = 15\n",
            "5* 4 = 20\n",
            "5* 5 = 25\n",
            "5* 6 = 30\n",
            "5* 7 = 35\n",
            "5* 8 = 40\n",
            "5* 9 = 45\n",
            "5* 10 = 50\n"
          ]
        }
      ]
    },
    {
      "cell_type": "code",
      "source": [
        "for i in range(1,6):\n",
        "  print(\"multiplication table of\",i)\n",
        "  for j in range(1,11):\n",
        "    print(j,'*','=',j*i)"
      ],
      "metadata": {
        "colab": {
          "base_uri": "https://localhost:8080/"
        },
        "id": "zZ-qA0mqq6LE",
        "outputId": "8c26d5b7-5ed2-4049-d3ee-b59dbc00064d"
      },
      "execution_count": null,
      "outputs": [
        {
          "output_type": "stream",
          "name": "stdout",
          "text": [
            "multiplication table of 1\n",
            "1 * = 1\n",
            "2 * = 2\n",
            "3 * = 3\n",
            "4 * = 4\n",
            "5 * = 5\n",
            "6 * = 6\n",
            "7 * = 7\n",
            "8 * = 8\n",
            "9 * = 9\n",
            "10 * = 10\n",
            "multiplication table of 2\n",
            "1 * = 2\n",
            "2 * = 4\n",
            "3 * = 6\n",
            "4 * = 8\n",
            "5 * = 10\n",
            "6 * = 12\n",
            "7 * = 14\n",
            "8 * = 16\n",
            "9 * = 18\n",
            "10 * = 20\n",
            "multiplication table of 3\n",
            "1 * = 3\n",
            "2 * = 6\n",
            "3 * = 9\n",
            "4 * = 12\n",
            "5 * = 15\n",
            "6 * = 18\n",
            "7 * = 21\n",
            "8 * = 24\n",
            "9 * = 27\n",
            "10 * = 30\n",
            "multiplication table of 4\n",
            "1 * = 4\n",
            "2 * = 8\n",
            "3 * = 12\n",
            "4 * = 16\n",
            "5 * = 20\n",
            "6 * = 24\n",
            "7 * = 28\n",
            "8 * = 32\n",
            "9 * = 36\n",
            "10 * = 40\n",
            "multiplication table of 5\n",
            "1 * = 5\n",
            "2 * = 10\n",
            "3 * = 15\n",
            "4 * = 20\n",
            "5 * = 25\n",
            "6 * = 30\n",
            "7 * = 35\n",
            "8 * = 40\n",
            "9 * = 45\n",
            "10 * = 50\n"
          ]
        }
      ]
    },
    {
      "cell_type": "code",
      "source": [],
      "metadata": {
        "id": "RcjK5RA6rXwG"
      },
      "execution_count": null,
      "outputs": []
    }
  ]
}