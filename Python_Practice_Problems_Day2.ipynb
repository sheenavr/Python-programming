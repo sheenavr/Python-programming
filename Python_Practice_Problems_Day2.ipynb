{
  "nbformat": 4,
  "nbformat_minor": 0,
  "metadata": {
    "colab": {
      "provenance": [],
      "authorship_tag": "ABX9TyO1oQNBXnh65SUgeOsvnY5s",
      "include_colab_link": true
    },
    "kernelspec": {
      "name": "python3",
      "display_name": "Python 3"
    },
    "language_info": {
      "name": "python"
    }
  },
  "cells": [
    {
      "cell_type": "markdown",
      "metadata": {
        "id": "view-in-github",
        "colab_type": "text"
      },
      "source": [
        "<a href=\"https://colab.research.google.com/github/sheenavr/Python-programming/blob/main/Python_Practice_Problems_Day2.ipynb\" target=\"_parent\"><img src=\"https://colab.research.google.com/assets/colab-badge.svg\" alt=\"Open In Colab\"/></a>"
      ]
    },
    {
      "cell_type": "markdown",
      "source": [
        "1.Program to accept the details of a student like name, roll number and mark and display it\n"
      ],
      "metadata": {
        "id": "Nr91Aglv5rO8"
      }
    },
    {
      "cell_type": "code",
      "source": [
        "name=input(\"Enter the Name\") # Read student name\n",
        "roll_no=int(input(\"Enter the Roll Number\")) # Read Roll Number\n",
        "mark=int(input(\"Enter the Mark\"))  # Read marks\n",
        "print(\"Name:\",name)\n",
        "print(\"Roll No:\",roll_no)\n",
        "print(\"Mark:\",mark)\n"
      ],
      "metadata": {
        "colab": {
          "base_uri": "https://localhost:8080/"
        },
        "id": "oylgkDux7KSK",
        "outputId": "27e405b3-8cbf-4ae5-c0f6-4b29a4b952c6"
      },
      "execution_count": 7,
      "outputs": [
        {
          "output_type": "stream",
          "name": "stdout",
          "text": [
            "Enter the NameAnju\n",
            "Enter the Roll Number100\n",
            "Enter the Mark250\n",
            "Name: Anju\n",
            "Roll No: 100\n",
            "Mark: 250\n"
          ]
        }
      ]
    },
    {
      "cell_type": "markdown",
      "source": [
        "2.program to convert temperatures to and from Celsius Fahrenheit"
      ],
      "metadata": {
        "id": "oPrOI1hw5YT_"
      }
    },
    {
      "cell_type": "code",
      "source": [
        "input_temp=input(\"Enter the temperature to convert: \") # Read the Temperature\n",
        "temp_value=int(input_temp[:-1])\n",
        "temp_degree=input_temp[-1]\n",
        "if temp_degree.upper() == \"C\":\n",
        "  f_temp=int(round(temp_value)*9/5)+32 #convert Celsius to Fahrenheit\n",
        "  print(\"Temperature in Fahrenheit: \",f_temp)\n",
        "elif temp_degree.upper() == \"F\"  :    \n",
        "  c_temp=int(round(((temp_value-32)/9)*5)) #convert  Fahrenheit to Celsius \n",
        "  print(\"Temperature in Celsius: \",c_temp)\n"
      ],
      "metadata": {
        "colab": {
          "base_uri": "https://localhost:8080/"
        },
        "id": "-RjqNIv_5bgY",
        "outputId": "e9aeff9a-8833-4475-e688-ea0a491582c4"
      },
      "execution_count": 12,
      "outputs": [
        {
          "output_type": "stream",
          "name": "stdout",
          "text": [
            "Enter the temperature to convert: 41F\n",
            "Temperature in Celsius:  5\n"
          ]
        }
      ]
    },
    {
      "cell_type": "markdown",
      "source": [
        "3.program to accept two numbers from the user and display\n",
        "its product."
      ],
      "metadata": {
        "id": "-GYMrHf95Wxd"
      }
    },
    {
      "cell_type": "code",
      "source": [
        "first_num=int(input(\"Enter the First Number:\")) # Accept First Number\n",
        "Sec_num=int(input(\"Enter the Second Number:\")) # Accept Second Number\n",
        "result=first_num*Sec_num\n",
        "print(\"The product of two numbers are:\",result)"
      ],
      "metadata": {
        "colab": {
          "base_uri": "https://localhost:8080/"
        },
        "id": "Pbd4uCPv9QRt",
        "outputId": "836bd225-6e5c-47dd-8c7b-c75876ab9934"
      },
      "execution_count": 13,
      "outputs": [
        {
          "output_type": "stream",
          "name": "stdout",
          "text": [
            "Enter the First Number:20\n",
            "Enter the Second Number:30\n",
            "The product of two numbers are: 600\n"
          ]
        }
      ]
    },
    {
      "cell_type": "markdown",
      "source": [
        " 4. program to accept a string “Learn Python by Developing a\n",
        "Website” and display the string like “Learn **Python** by Developing a\n",
        "**Website**”\n"
      ],
      "metadata": {
        "id": "ljDOu6xu-NFl"
      }
    },
    {
      "cell_type": "code",
      "source": [
        "string_val=\"Learn Python by Developing a Website\"\n",
        "#\"\\033[1m{}\\033[0m\".format(str) for bold format\n",
        "\n",
        "print(string_val[:6]+\"\\033[1m{}\\033[0m\".format(string_val[6:12])+string_val[12:28]+\"\\033[1m{}\\033[0m\".format(string_val[-8:]))"
      ],
      "metadata": {
        "colab": {
          "base_uri": "https://localhost:8080/"
        },
        "id": "2KTUzbn--XCE",
        "outputId": "6d91b9cf-7218-4659-c671-b2403a911046"
      },
      "execution_count": 29,
      "outputs": [
        {
          "output_type": "stream",
          "name": "stdout",
          "text": [
            "Learn \u001b[1mPython\u001b[0m by Developing a\u001b[1m Website\u001b[0m\n"
          ]
        }
      ]
    },
    {
      "cell_type": "markdown",
      "source": [
        "5. program to accept the radius of a circle and display its area\n"
      ],
      "metadata": {
        "id": "T6_QlZkOHpgs"
      }
    },
    {
      "cell_type": "code",
      "source": [
        "import math\n",
        "radius=int(input(\"Enter the radius\")) # Enter the radius\n",
        "area=math.pi*radius**2\n",
        "print(f'Area of Circle of radius {radius} is:',area)\n",
        "\n"
      ],
      "metadata": {
        "colab": {
          "base_uri": "https://localhost:8080/"
        },
        "id": "c-Sy-78oHwk1",
        "outputId": "2f8faece-6b10-4c89-9cdb-9d488478d894"
      },
      "execution_count": 35,
      "outputs": [
        {
          "output_type": "stream",
          "name": "stdout",
          "text": [
            "Enter the radius3\n",
            "Area of Circle of radius 3 is: 28.274333882308138\n"
          ]
        }
      ]
    },
    {
      "cell_type": "markdown",
      "source": [
        "6.program to insert a number to any position in a list (Get the number to\n",
        "be inserted and position from the user)\n"
      ],
      "metadata": {
        "id": "BAvqWChBJfyj"
      }
    },
    {
      "cell_type": "code",
      "source": [
        "list_numbers=[1,2,3,4,5]\n",
        "pos=int(input(\"Enter the position to insert in to the list\")) # accept the position\n",
        "num=int(input(\"Enter the number to insert in the list\"))  # accept the number to insert\n",
        "list_numbers.insert(pos,num)\n",
        "print(\"the list after adding the new element\",list_numbers)\n",
        "\n",
        "\n"
      ],
      "metadata": {
        "colab": {
          "base_uri": "https://localhost:8080/"
        },
        "id": "jVExHhIKJvS5",
        "outputId": "f32bd197-baef-41ec-b061-4b0a591692e5"
      },
      "execution_count": 37,
      "outputs": [
        {
          "output_type": "stream",
          "name": "stdout",
          "text": [
            "Enter the position to insert in to the list1\n",
            "Enter the number to insert in the list44\n",
            "the list after adding the new element [1, 44, 2, 3, 4, 5]\n"
          ]
        }
      ]
    },
    {
      "cell_type": "markdown",
      "source": [
        "7.program to rename a key city to a location in the following dictionary.\n",
        "sample_dict = { \"name\": \"John\", \"age\":5, \"salary\": 8000, \"city\": \"New York\"}"
      ],
      "metadata": {
        "id": "kvEbOB0qLEZc"
      }
    },
    {
      "cell_type": "code",
      "source": [
        "personal_dic={ \"name\": \"John\", \"age\":5, \"salary\": 8000, \"city\": \"New York\"}\n",
        "print(\"The original Details\",personal_dic)\n",
        "temp_var=personal_dic['city'] # store value in a temperory variable\n",
        "del personal_dic['city']\n",
        "personal_dic['location']=temp_var\n",
        "print(\"Details after changing the key city to location\",personal_dic)"
      ],
      "metadata": {
        "colab": {
          "base_uri": "https://localhost:8080/"
        },
        "id": "1LabmSWqLSS8",
        "outputId": "78feafb5-6568-47ae-e0af-622b981f0b9b"
      },
      "execution_count": 39,
      "outputs": [
        {
          "output_type": "stream",
          "name": "stdout",
          "text": [
            "The original list {'name': 'John', 'age': 5, 'salary': 8000, 'city': 'New York'}\n",
            "list after changing the key city to location {'name': 'John', 'age': 5, 'salary': 8000, 'location': 'New York'}\n"
          ]
        }
      ]
    },
    {
      "cell_type": "markdown",
      "source": [
        "8.program to change Brad’s salary to 8500 in the following\n",
        "dictionary.\n",
        "sample_dict = {\n",
        "'emp1': {'name': 'John', 'salary': 7500},\n",
        "'emp2': {'name': 'Emma', 'salary': 8000},\n",
        "'emp3': {'name': 'Brad', 'salary': 500}}\n"
      ],
      "metadata": {
        "id": "GqRbL3eTMvlU"
      }
    },
    {
      "cell_type": "code",
      "source": [
        "emp_dic={ 'emp1': {'name': 'John', 'salary': 7500}, 'emp2': {'name': 'Emma', 'salary': 8000}, 'emp3': {'name': 'Brad', 'salary': 500}}\n",
        "\n",
        "print(\"The original Employee details:\",emp_dic)\n",
        "\n",
        "emp_temp={'emp3': {'name': 'Brad', 'salary': 8500}}\n",
        "emp_dic.update(emp_temp) # updating the salary\n",
        "print(\"After updating the Brad's salary:\",emp_dic)\n",
        "\n"
      ],
      "metadata": {
        "colab": {
          "base_uri": "https://localhost:8080/"
        },
        "id": "VBxSRDliM_wy",
        "outputId": "5b2e7bf8-bc83-44ab-8151-c6053e78fbd6"
      },
      "execution_count": 50,
      "outputs": [
        {
          "output_type": "stream",
          "name": "stdout",
          "text": [
            "The original Employee details: {'emp1': {'name': 'John', 'salary': 7500}, 'emp2': {'name': 'Emma', 'salary': 8000}, 'emp3': {'name': 'Brad', 'salary': 500}}\n",
            "After updating the Brad's salary: {'emp1': {'name': 'John', 'salary': 7500}, 'emp2': {'name': 'Emma', 'salary': 8000}, 'emp3': {'name': 'Brad', 'salary': 8500}}\n"
          ]
        }
      ]
    },
    {
      "cell_type": "markdown",
      "source": [
        "9. program to copy elements 43 and 54 from the following tuple into a\n",
        "new tuple. Given:\n",
        "tuple1 = (10, 20, 43, 54, 56, 68)"
      ],
      "metadata": {
        "id": "8kNDt8t6ZmSK"
      }
    },
    {
      "cell_type": "code",
      "source": [
        "tuple1=(10, 20, 43, 54, 56, 68)\n",
        "tuple2=tuple1[2:4] # copy values to another tuple\n",
        "print(tuple2)"
      ],
      "metadata": {
        "colab": {
          "base_uri": "https://localhost:8080/"
        },
        "id": "GZEUGuMUZwA_",
        "outputId": "7fa13d8d-78c5-4119-8e21-912c8d1dc44d"
      },
      "execution_count": 52,
      "outputs": [
        {
          "output_type": "stream",
          "name": "stdout",
          "text": [
            "(43, 54)\n"
          ]
        }
      ]
    },
    {
      "cell_type": "markdown",
      "source": [
        "10.Counts the number of occurrences of item 50 from a tuple\n",
        "tuple1 = (50, 10, 60, 70, 50,83,567,50,81)"
      ],
      "metadata": {
        "id": "mt7elECTagDd"
      }
    },
    {
      "cell_type": "code",
      "source": [
        " tuple3 = (50, 10, 60, 70, 50,83,567,50,81)\n",
        " element_count=tuple3.count(50)\n",
        " print(tuple3)\n",
        " print(\"the count of the tuple element 50 is:\",element_count)"
      ],
      "metadata": {
        "colab": {
          "base_uri": "https://localhost:8080/"
        },
        "id": "AxyBfYRzaqk5",
        "outputId": "6fbe75de-d306-411f-9371-559470ee3c8f"
      },
      "execution_count": 55,
      "outputs": [
        {
          "output_type": "stream",
          "name": "stdout",
          "text": [
            "(50, 10, 60, 70, 50, 83, 567, 50, 81)\n",
            "the count of the tuple element 50 is: 3\n"
          ]
        }
      ]
    }
  ]
}