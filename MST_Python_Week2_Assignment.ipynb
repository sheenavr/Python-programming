{
  "nbformat": 4,
  "nbformat_minor": 0,
  "metadata": {
    "colab": {
      "provenance": [],
      "authorship_tag": "ABX9TyMt/lq/AcrzA3Kropg+g131",
      "include_colab_link": true
    },
    "kernelspec": {
      "name": "python3",
      "display_name": "Python 3"
    },
    "language_info": {
      "name": "python"
    }
  },
  "cells": [
    {
      "cell_type": "markdown",
      "metadata": {
        "id": "view-in-github",
        "colab_type": "text"
      },
      "source": [
        "<a href=\"https://colab.research.google.com/github/sheenavr/Python-programming/blob/main/MST_Python_Week2_Assignment.ipynb\" target=\"_parent\"><img src=\"https://colab.research.google.com/assets/colab-badge.svg\" alt=\"Open In Colab\"/></a>"
      ]
    },
    {
      "cell_type": "code",
      "execution_count": null,
      "metadata": {
        "colab": {
          "base_uri": "https://localhost:8080/"
        },
        "id": "2iM__O9qZf02",
        "outputId": "df63e408-f62a-4555-c3be-2e6cdd9f128f"
      },
      "outputs": [
        {
          "output_type": "stream",
          "name": "stdout",
          "text": [
            "Enter a number between 1 and 10: 4\n",
            "Too low! Try again.\n",
            "Enter a number between 1 and 10: 5\n",
            "Congratulations! You guessed the number correctly!\n"
          ]
        }
      ],
      "source": [
        "# 1. Write an interactive Python Program to implement following “Guess Game”\n",
        "# i. Think of a number between 1 and 10 and store it in a variable called \"secretNumber\".\n",
        "# ii. Ask the user to enter a number between 1 and 10 and store it in a variable called \"guess\".\n",
        "# iii. Use control statements (if-else) to check if the guess is correct, higher, or lower than the secret number.\n",
        "# iv. Display appropriate messages to the user based on their guess: \n",
        " #•If the guess is correct, display \"Congratulations! You guessed the number correctly!\" \n",
        " #• If the guess is higher than the secret number, display \"Too high! Try again.\" \n",
        " #• If the guess is lower than the secret number, display \"Too low! Try again.\"\n",
        "# v. Allow the user to keep guessing until they guess the correct number.\n",
        "import random \n",
        "secretNumber = random. randint(1, 10) \n",
        "guess = None \n",
        "while guess != secretNumber: \n",
        "  guess = int(input(\"Enter a number between 1 and 10: \")) \n",
        "  if guess == secretNumber: \n",
        "    print(\"Congratulations! You guessed the number correctly!\")\n",
        "  elif guess> secretNumber:\n",
        "     print(\"Too high! Try again.\")\n",
        "  elif guess< secretNumber:\n",
        "     print(\"Too low! Try again.\")\n"
      ]
    },
    {
      "cell_type": "code",
      "source": [
        "#2. Write a program to find and print the Factorial of this number. The Factorial of a positive\n",
        "#integer N refers to the product of all number in the range from 1 to N.\n",
        "\n",
        "num =int(input(\"Enter the number to find the factorial:\"))\n",
        "factorial = 1\n",
        "if num < 0:\n",
        "   print(\"The number is a negative number\")\n",
        "elif num == 0:\n",
        "   print(\"The factorial of 0 is 1\")\n",
        "else:\n",
        "   for i in range(1,num + 1):\n",
        "       factorial = factorial*i\n",
        "   print(\"The factorial of\",num,\"is\",factorial)\n",
        "   "
      ],
      "metadata": {
        "colab": {
          "base_uri": "https://localhost:8080/"
        },
        "id": "iNiiZXDRcn1x",
        "outputId": "b6c5a380-c45a-48f9-c26f-9570c3e783f5"
      },
      "execution_count": null,
      "outputs": [
        {
          "output_type": "stream",
          "name": "stdout",
          "text": [
            "Enter the number to find the factorial:3\n",
            "The factorial of 3 is 6\n"
          ]
        }
      ]
    },
    {
      "cell_type": "code",
      "source": [
        "\n",
        "#3 • Roy wants to change his profile picture on Facebook. Now Facebook has some\n",
        "#restriction over the dimension of picture that we can upload.\n",
        "#Minimum dimension of the picture can be L x L, where L is the length of the side\n",
        "#of square. Now Roy has N photos of various dimensions.\n",
        "#Dimension of a photo is denoted as W x H\n",
        "#where W - width of the photo and H - Height of the photo\n",
        "#• When any photo is uploaded following events may occur:\n",
        "#[1] If any of the width or height is less than L, user is prompted to upload another\n",
        "#one. Print \"UPLOAD ANOTHER\" in this case.\n",
        "#[2] If width and height, both are large enough and\n",
        "#(a) if the photo is already square then it is accepted. Print \"ACCEPTED\" in this\n",
        "#case.\n",
        "#(b) else user is prompted to crop it. Print \"CROP IT\" in this case.\n",
        "#Given L, N, W and H as input, write a program to print appropriate text as output.\n",
        "\n",
        "photo_len=int(input(\"Enter the length of the photo\"))\n",
        "num_photo=int(input(\"Enter the number of photos to upload\"))\n",
        "while num_photo>0:\n",
        "  photo_width=int(input(\"Enter the width of the photo\"))\n",
        "  photo_height=int(input(\"Enter the Height of the photo\")) \n",
        "\n",
        "  if  photo_width<photo_len or photo_height<photo_len:   \n",
        "    print(\"UPLOAD ANOTHER\")\n",
        "  elif photo_width>=photo_len and  photo_height>=photo_len and photo_width==photo_height:\n",
        "     print(\"ACCEPTED\")\n",
        "  elif photo_width>=photo_len and  photo_height>=photo_len and photo_width!=photo_height:   \n",
        "    print(\"CROP IT\")    \n",
        "  num_photo= num_photo-1   \n",
        "\n"
      ],
      "metadata": {
        "id": "I0Kspgrdd43v",
        "colab": {
          "base_uri": "https://localhost:8080/"
        },
        "outputId": "1263b6d5-ef95-4505-8be8-775d28e236fe"
      },
      "execution_count": null,
      "outputs": [
        {
          "output_type": "stream",
          "name": "stdout",
          "text": [
            "Enter the length of the photo2\n",
            "Enter the number of photos to upload4\n",
            "Enter the width of the photo5\n",
            "Enter the Height of the photo5\n",
            "ACCEPTED\n",
            "Enter the width of the photo5\n",
            "Enter the Height of the photo5\n",
            "ACCEPTED\n",
            "Enter the width of the photo6\n",
            "Enter the Height of the photo7\n",
            "CROP IT\n",
            "Enter the width of the photo8\n",
            "Enter the Height of the photo9\n",
            "CROP IT\n"
          ]
        }
      ]
    },
    {
      "cell_type": "markdown",
      "source": [],
      "metadata": {
        "id": "cmPFgFdMZ1d8"
      }
    }
  ]
}