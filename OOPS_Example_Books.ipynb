{
 "cells": [
  {
   "cell_type": "code",
   "execution_count": 25,
   "id": "3a0ba1c5",
   "metadata": {},
   "outputs": [],
   "source": [
    "from abc import ABC,abstractmethod\n",
    "class Book(ABC):\n",
    "    def __init__(self,title,quantity,author,price):\n",
    "        self.title = title\n",
    "        self.quantity = quantity\n",
    "        self.author = author\n",
    "        self.price = price\n",
    "        self.__discount = None\n",
    "    @abstractmethod\n",
    "    def set_discount(self,discount):\n",
    "        self.__discount = discount\n",
    "    def get_discount(self):\n",
    "        return self.__discount\n",
    "    def __str__(self):\n",
    "        return 'Book Details:\\nTitle : '+self.title+'\\nPrice :'+str(self.price)"
   ]
  },
  {
   "cell_type": "code",
   "execution_count": 17,
   "id": "cc20ef40",
   "metadata": {},
   "outputs": [],
   "source": [
    "b1 = Book('Book1',12,'Author1',120)\n",
    "b2 = Book('Book2',18,'Author2',220)"
   ]
  },
  {
   "cell_type": "code",
   "execution_count": 18,
   "id": "28577747",
   "metadata": {},
   "outputs": [
    {
     "name": "stdout",
     "output_type": "stream",
     "text": [
      "Book Details:\n",
      "Title : Book2\n",
      "Price :220\n"
     ]
    }
   ],
   "source": [
    "print(b2)"
   ]
  },
  {
   "cell_type": "code",
   "execution_count": 19,
   "id": "6169634b",
   "metadata": {},
   "outputs": [],
   "source": [
    "b1.set_discount(50)"
   ]
  },
  {
   "cell_type": "code",
   "execution_count": 20,
   "id": "947af5cf",
   "metadata": {},
   "outputs": [
    {
     "data": {
      "text/plain": [
       "50"
      ]
     },
     "execution_count": 20,
     "metadata": {},
     "output_type": "execute_result"
    }
   ],
   "source": [
    "b1.get_discount()"
   ]
  },
  {
   "cell_type": "code",
   "execution_count": 21,
   "id": "06dca100",
   "metadata": {},
   "outputs": [],
   "source": [
    "b2.get_discount()"
   ]
  },
  {
   "cell_type": "code",
   "execution_count": 28,
   "id": "f797dad5",
   "metadata": {},
   "outputs": [],
   "source": [
    "class Novel(Book):\n",
    "    def __init__(self,title,quantity,author,price,pages):\n",
    "        super().__init__(title,quantity,author,price)\n",
    "        self.pages = pages\n",
    "    def set_discount():\n",
    "        pass"
   ]
  },
  {
   "cell_type": "code",
   "execution_count": 29,
   "id": "3fb316e7",
   "metadata": {},
   "outputs": [],
   "source": [
    "n1 = Novel('Novel1',12,'Author1',120,700)"
   ]
  },
  {
   "cell_type": "code",
   "execution_count": 24,
   "id": "e9f1af8e",
   "metadata": {},
   "outputs": [
    {
     "name": "stdout",
     "output_type": "stream",
     "text": [
      "Book Details:\n",
      "Title : Novel1\n",
      "Price :120\n"
     ]
    }
   ],
   "source": [
    "print(n1)"
   ]
  },
  {
   "cell_type": "code",
   "execution_count": null,
   "id": "812dab1a",
   "metadata": {},
   "outputs": [],
   "source": []
  }
 ],
 "metadata": {
  "kernelspec": {
   "display_name": "Python 3 (ipykernel)",
   "language": "python",
   "name": "python3"
  },
  "language_info": {
   "codemirror_mode": {
    "name": "ipython",
    "version": 3
   },
   "file_extension": ".py",
   "mimetype": "text/x-python",
   "name": "python",
   "nbconvert_exporter": "python",
   "pygments_lexer": "ipython3",
   "version": "3.9.7"
  }
 },
 "nbformat": 4,
 "nbformat_minor": 5
}
