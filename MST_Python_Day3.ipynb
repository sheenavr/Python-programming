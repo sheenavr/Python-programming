{
  "nbformat": 4,
  "nbformat_minor": 0,
  "metadata": {
    "colab": {
      "provenance": [],
      "authorship_tag": "ABX9TyOVRho9+fC1aEKh8XVSEFTj",
      "include_colab_link": true
    },
    "kernelspec": {
      "name": "python3",
      "display_name": "Python 3"
    },
    "language_info": {
      "name": "python"
    }
  },
  "cells": [
    {
      "cell_type": "markdown",
      "metadata": {
        "id": "view-in-github",
        "colab_type": "text"
      },
      "source": [
        "<a href=\"https://colab.research.google.com/github/sheenavr/Python-programming/blob/main/MST_Python_Day3.ipynb\" target=\"_parent\"><img src=\"https://colab.research.google.com/assets/colab-badge.svg\" alt=\"Open In Colab\"/></a>"
      ]
    },
    {
      "cell_type": "code",
      "execution_count": 1,
      "metadata": {
        "colab": {
          "base_uri": "https://localhost:8080/"
        },
        "id": "5AtBuC6nkQv2",
        "outputId": "b8110ff2-571f-48e6-c24f-f474e0dfe7c2"
      },
      "outputs": [
        {
          "output_type": "stream",
          "name": "stdout",
          "text": [
            "Enter the money you have1000\n",
            "I will buy it later\n"
          ]
        }
      ],
      "source": [
        "# In[7]:\n",
        "\n",
        "\n",
        "price_tv=20000\n",
        "EMI_OPTION=False\n",
        "money=int(input(\"Enter the money you have\"))\n",
        "if(price_tv<money):\n",
        "    print(\"Please Pack the TV\")\n",
        "else :\n",
        "    if EMI_OPTION:\n",
        "        print(\"I will buy now\")\n",
        "    else:\n",
        "        print(\"I will buy it later\")\n",
        "\n"
      ]
    },
    {
      "cell_type": "code",
      "source": [
        "\n",
        "\n",
        "# program to check the number is even or not\n",
        "number=(int(input(\"Enter the number\")))\n",
        "if number%2==0:\n",
        "    print(\"The number is Even\")\n",
        "else:\n",
        "    print(\"The number is odd\")"
      ],
      "metadata": {
        "colab": {
          "base_uri": "https://localhost:8080/"
        },
        "id": "zjmIZpxmkYW4",
        "outputId": "201f898c-0e6a-4724-b121-fc06520ec854"
      },
      "execution_count": 2,
      "outputs": [
        {
          "output_type": "stream",
          "name": "stdout",
          "text": [
            "Enter the number23\n",
            "The number is odd\n"
          ]
        }
      ]
    },
    {
      "cell_type": "code",
      "source": [
        "\n",
        "price_tv=20000\n",
        "EMI_OPTION=True\n",
        "money=int(input(\"Enter the money you have\"))\n",
        "if(price_tv<money):\n",
        "    print(\"Please Pack the TV\")\n",
        "elif EMI_OPTION:\n",
        "    print(\"I will buy now\")\n",
        "else:\n",
        "    print(\"I will buy it later\")\n",
        "\n",
        "\n"
      ],
      "metadata": {
        "colab": {
          "base_uri": "https://localhost:8080/"
        },
        "id": "oU3pqlD-kdsB",
        "outputId": "c6ce18b2-7fe3-47cd-b919-75a52ea6df7b"
      },
      "execution_count": 3,
      "outputs": [
        {
          "output_type": "stream",
          "name": "stdout",
          "text": [
            "Enter the money you have2000\n",
            "I will buy now\n"
          ]
        }
      ]
    },
    {
      "cell_type": "code",
      "source": [
        "\n",
        "num=(int(input(\"Enter the number\")))\n",
        "if num==0:\n",
        "    print(\"The number is neither positive nor negative\")\n",
        "elif num<0:\n",
        "    print(\"The number is negative\")\n",
        "else:\n",
        "    print(\"The number is positive\")\n"
      ],
      "metadata": {
        "colab": {
          "base_uri": "https://localhost:8080/"
        },
        "id": "9qh7Fp6fkh17",
        "outputId": "b3c2aaa5-8ac3-408f-9710-7f2e9c23c522"
      },
      "execution_count": 4,
      "outputs": [
        {
          "output_type": "stream",
          "name": "stdout",
          "text": [
            "Enter the number23\n",
            "The number is positive\n"
          ]
        }
      ]
    },
    {
      "cell_type": "code",
      "source": [
        "\n",
        "\n",
        "a=10\n",
        "id(a)\n",
        "\n",
        "\n",
        "\n",
        "\n",
        "\n",
        "b=10\n",
        "id(b)\n",
        "\n",
        "\n",
        "\n",
        "\n",
        "\n",
        "a=19\n",
        "id(a)\n",
        "\n",
        "\n",
        "# In[12]:\n",
        "\n",
        "\n",
        "input(\"Enter the numbers\").split(' ')\n",
        "\n",
        "\n",
        "# In[15]:\n",
        "\n",
        "\n",
        "x,y,z=map(int,['2','3','4'])\n",
        "print(x,y,z)\n",
        "\n"
      ],
      "metadata": {
        "colab": {
          "base_uri": "https://localhost:8080/"
        },
        "id": "lXPWK4RRkpQ-",
        "outputId": "58da3d2c-c2e2-4ba9-faf8-66b4af75b026"
      },
      "execution_count": 6,
      "outputs": [
        {
          "output_type": "stream",
          "name": "stdout",
          "text": [
            "Enter the numbers2 3 5\n",
            "2 3 4\n"
          ]
        }
      ]
    },
    {
      "cell_type": "code",
      "source": [
        "\n",
        "x,y=map(int,input(\"Enter the numbers\").split(' '))\n",
        "if x==y:\n",
        "    print(\"both is same\")\n",
        "elif x>y:\n",
        "    print(\"{} is greater than {}\".format(x,y))\n",
        "else:\n",
        "    print(\"{} is greater than {}\".format(y,x))\n",
        "    "
      ],
      "metadata": {
        "colab": {
          "base_uri": "https://localhost:8080/"
        },
        "id": "60nrk929k2sk",
        "outputId": "9e5b25b6-d657-4fbd-c871-8d698762fc78"
      },
      "execution_count": 7,
      "outputs": [
        {
          "output_type": "stream",
          "name": "stdout",
          "text": [
            "Enter the numbers12 34\n",
            "34 is greater than 12\n"
          ]
        }
      ]
    },
    {
      "cell_type": "code",
      "source": [
        "\n",
        "x,y,z=map(int,input(\"Enter the numbers\").split(' '))\n",
        "if x==y:\n",
        "    print(\"both is same\")\n",
        "elif x>y:\n",
        "    print(\"{} is greater than {}\".format(x,y))\n",
        "else:\n",
        "    \n",
        "    print(\"{} is greater than {}\".format(y,x))\n"
      ],
      "metadata": {
        "colab": {
          "base_uri": "https://localhost:8080/"
        },
        "id": "fhksfj6Ik6Jj",
        "outputId": "d7a69700-f1ce-4fb4-a0fa-d4a8dbb42fe2"
      },
      "execution_count": 10,
      "outputs": [
        {
          "output_type": "stream",
          "name": "stdout",
          "text": [
            "Enter the numbers12 23 34\n",
            "23 is greater than 12\n"
          ]
        }
      ]
    },
    {
      "cell_type": "code",
      "source": [
        "\n",
        "str=input(\"Enter the String:\")\n",
        "\n",
        "if str.lower()==str[::-1]:\n",
        "    print(\"the string is palindrome\")\n",
        "else:\n",
        "    print(\"not palindrome\")\n"
      ],
      "metadata": {
        "colab": {
          "base_uri": "https://localhost:8080/"
        },
        "id": "VvjACvRYlQ_j",
        "outputId": "7fd4fe21-8f0e-4ab5-e9fd-8b28414a43c4"
      },
      "execution_count": 11,
      "outputs": [
        {
          "output_type": "stream",
          "name": "stdout",
          "text": [
            "Enter the String:apple\n",
            "not palindrome\n"
          ]
        }
      ]
    },
    {
      "cell_type": "code",
      "source": [
        "\n",
        "#company decided to give  bonus 5% to employee if tenure>5\n",
        "emp_exp=int(input(\"Enter the Years of experience\"))\n",
        "emp_sal=int(input(\"Enter the Salary\"))\n",
        "if emp_exp>5:\n",
        "    bonus=emp_sal*0.05\n",
        "    emp_sal=emp_sal+bonus\n",
        "    print(\"Bonus\",bonus)\n",
        "    print(\"updated salary\",emp_sal)\n",
        "else:\n",
        "    print(\"No Bonus\")"
      ],
      "metadata": {
        "colab": {
          "base_uri": "https://localhost:8080/"
        },
        "id": "ZRa4bcDnlTZk",
        "outputId": "bb0c0419-04e0-40cf-980f-1000a4a2d150"
      },
      "execution_count": 12,
      "outputs": [
        {
          "output_type": "stream",
          "name": "stdout",
          "text": [
            "Enter the Years of experience2\n",
            "Enter the Salary1000\n",
            "No Bonus\n"
          ]
        }
      ]
    },
    {
      "cell_type": "code",
      "source": [
        "\n",
        "#Given the participants' score sheet for your University Sports Day, you are required to\n",
        "#find the runner-up score. You are given scores. Store them in a list and find the score of\n",
        "#the runner-up. (Create an array of scores and print the runner up score\n",
        "participant_arr = list(map(int, input().split()))\n",
        "set_arr = set(participant_arr)\n",
        "resul_arr = sorted(set_arr)\n",
        "print(resul_arr[-2])\n",
        "\n"
      ],
      "metadata": {
        "colab": {
          "base_uri": "https://localhost:8080/"
        },
        "id": "TY3OHh7SlZLy",
        "outputId": "61eb0815-0b21-4834-af35-b6c404f5796c"
      },
      "execution_count": 13,
      "outputs": [
        {
          "output_type": "stream",
          "name": "stdout",
          "text": [
            "12 23 34\n",
            "23\n"
          ]
        }
      ]
    },
    {
      "cell_type": "code",
      "source": [
        "\n",
        "#A dictionary is given D={‘John’ [25,32,43],’Peter’:[87,55,96],’Ram’:[58,55,43],’Meena’:[63,79,85]}\n",
        "#Get a name from user if the name in the dictionary change the values corresponding to\n",
        "#that user to [88,77,99] and print the dictionary. Else print ‘Name not found\n",
        "personal_dic={'John': [25,32,43],'Peter':[87,55,96],'Ram':[58,55,43],'Meena':[63,79,85]}\n",
        "name_str=input(\"Enter the name\")\n",
        "if name_str in personal_dic:\n",
        "    d1={name_str: [88,77,99]}\n",
        "    personal_dic.update(d1)\n",
        "    print(personal_dic) \n",
        "else:\n",
        "    print(\"The name not found in the dictionary\")\n",
        "    "
      ],
      "metadata": {
        "colab": {
          "base_uri": "https://localhost:8080/"
        },
        "id": "ecMXRxP6lex3",
        "outputId": "8f12b1cd-4de9-4638-a635-2d84757754ae"
      },
      "execution_count": 14,
      "outputs": [
        {
          "output_type": "stream",
          "name": "stdout",
          "text": [
            "Enter the nameJohn\n",
            "{'John': [88, 77, 99], 'Peter': [87, 55, 96], 'Ram': [58, 55, 43], 'Meena': [63, 79, 85]}\n"
          ]
        }
      ]
    },
    {
      "cell_type": "code",
      "source": [
        "\n",
        "#Ticket Price Calculator:\n",
        "#I. Ask the user to enter their age.\n",
        "#II. Use control statements (if-elif-else) to calculate the ticket price based on the \n",
        "#following conditions:\n",
        "#a. If the age is below 5, the ticket price is free.\n",
        "#b. If the age is between 5 and 12 (inclusive), the ticket price is Rs.10.\n",
        "#c. If the age is above 12, the ticket price is Rs.50.\n",
        "#d. If the age is above 60, the ticket price is free.\n",
        "#e. If the gender is female, the ticket price is 50% of the applicable rates.\n",
        "#III. Display the ticket price to the user\n",
        "\n",
        "user_age=int(input(\"Enter the age\"))\n",
        "gender=input(\"Enter the gender\")\n",
        "if user_age<5 or user_age>60:\n",
        "    print(\"The ticket is free\")\n",
        "elif gender=='female' and   5>=  user_age and  user_age<=12 :\n",
        "    new_rate=10*0.5\n",
        "    print(\"the ticket price is \",new_rate)\n",
        "elif gender=='female' and  user_age>12 : \n",
        "    new_rate=50*0.5\n",
        "    print(\"the ticket price is \",new_rate)\n",
        "elif  5>=  user_age and  user_age<=12:\n",
        "    print(\"The ticket price is Rs.10\")\n",
        "elif user_age>12: \n",
        "    print(\"The ticket price is Rs.50\")\n"
      ],
      "metadata": {
        "colab": {
          "base_uri": "https://localhost:8080/"
        },
        "id": "vxr2JonjljV_",
        "outputId": "24e65997-4904-427a-ed12-025c82b0931b"
      },
      "execution_count": 15,
      "outputs": [
        {
          "output_type": "stream",
          "name": "stdout",
          "text": [
            "Enter the age23\n",
            "Enter the gendermale\n",
            "The ticket price is Rs.50\n"
          ]
        }
      ]
    },
    {
      "cell_type": "code",
      "source": [
        "print(print(\"hello\"))"
      ],
      "metadata": {
        "colab": {
          "base_uri": "https://localhost:8080/"
        },
        "id": "RBtaPWuClo-C",
        "outputId": "0293fcaa-b26e-4f1a-a1d3-183c521855a6"
      },
      "execution_count": 16,
      "outputs": [
        {
          "output_type": "stream",
          "name": "stdout",
          "text": [
            "hello\n",
            "None\n"
          ]
        }
      ]
    }
  ]
}