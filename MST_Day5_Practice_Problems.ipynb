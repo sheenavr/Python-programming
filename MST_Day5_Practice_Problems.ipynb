{
  "nbformat": 4,
  "nbformat_minor": 0,
  "metadata": {
    "colab": {
      "provenance": [],
      "authorship_tag": "ABX9TyM9m8O9YaBpNeiZYEYUGGFd",
      "include_colab_link": true
    },
    "kernelspec": {
      "name": "python3",
      "display_name": "Python 3"
    },
    "language_info": {
      "name": "python"
    }
  },
  "cells": [
    {
      "cell_type": "markdown",
      "metadata": {
        "id": "view-in-github",
        "colab_type": "text"
      },
      "source": [
        "<a href=\"https://colab.research.google.com/github/sheenavr/Python-programming/blob/master/MST_Day5_Practice_Problems.ipynb\" target=\"_parent\"><img src=\"https://colab.research.google.com/assets/colab-badge.svg\" alt=\"Open In Colab\"/></a>"
      ]
    },
    {
      "cell_type": "code",
      "execution_count": null,
      "metadata": {
        "colab": {
          "base_uri": "https://localhost:8080/"
        },
        "id": "rvATFesk1lMY",
        "outputId": "5d041263-8316-4ad3-e9ab-84271ab80681"
      },
      "outputs": [
        {
          "output_type": "stream",
          "name": "stdout",
          "text": [
            "largest number is 100\n"
          ]
        }
      ],
      "source": [
        "#1.\tWrite a function to find the maximum of three numbers and return the result.\n",
        "def maximum(a, b, c):\n",
        " \n",
        "    if (a >= b) and (a >= c):\n",
        "        largest = a\n",
        " \n",
        "    elif (b >= a) and (b >= c):\n",
        "        largest = b\n",
        "    else:\n",
        "        largest = c\n",
        "         \n",
        "    return largest\n",
        "print(\"largest number is\",maximum(56,99,100))\n"
      ]
    },
    {
      "cell_type": "code",
      "source": [
        "#2.\tImplement a function to calculate the area of a circle given the radius.\n",
        "import math\n",
        "def area_circle(r):\n",
        "    return math.pi*r**2\n",
        "r=int(input(\"Enter the radius\"))\n",
        "print(\"The area of Circle\",area_circle(r))"
      ],
      "metadata": {
        "colab": {
          "base_uri": "https://localhost:8080/"
        },
        "id": "ywe4DYd51xMU",
        "outputId": "72b5ebad-8974-4f7e-f6ea-56b563150cf6"
      },
      "execution_count": null,
      "outputs": [
        {
          "output_type": "stream",
          "name": "stdout",
          "text": [
            "Enter the radius3\n",
            "The area of Circle 28.274333882308138\n"
          ]
        }
      ]
    },
    {
      "cell_type": "code",
      "source": [
        "#3.\tCreate a function to check if a given number is prime or not, and return a boolean result.\n",
        "def fun_prime(num):\n",
        "    flag = False\n",
        "    if num == 1:\n",
        "        return False\n",
        "    elif num > 1:\n",
        "\n",
        "        for i in range(2, num):\n",
        "            if (num % i) == 0:\n",
        "                flag = True\n",
        "            break\n",
        " \n",
        "    if flag:\n",
        "        return False\n",
        "    else:\n",
        "        return True\n",
        "        \n",
        "\n",
        "num=int(input(\"Enter the Number:\"))\n",
        "fun_prime(num)\n",
        "\n",
        "    "
      ],
      "metadata": {
        "colab": {
          "base_uri": "https://localhost:8080/"
        },
        "id": "E6Mzgc58106h",
        "outputId": "bb1c2141-0901-4416-ee9d-a2f2d619fe9f"
      },
      "execution_count": null,
      "outputs": [
        {
          "name": "stdout",
          "output_type": "stream",
          "text": [
            "Enter the Number:4\n"
          ]
        },
        {
          "output_type": "execute_result",
          "data": {
            "text/plain": [
              "False"
            ]
          },
          "metadata": {},
          "execution_count": 3
        }
      ]
    },
    {
      "cell_type": "code",
      "source": [
        "#4.\tCreate a function to check if a given string is a palindrome and return a boolean result.\n",
        "def checkPalindrome(str):\n",
        "    if str == str[::-1]:\n",
        "        return True\n",
        "    else:\n",
        "        return False\n",
        "  \n",
        "\n",
        "str = input(\"Enter the String to check Palindrome:\")\n",
        "checkPalindrome(str)"
      ],
      "metadata": {
        "colab": {
          "base_uri": "https://localhost:8080/"
        },
        "id": "rVPptCbh15JB",
        "outputId": "d553afe2-495c-413d-c753-9208f2abce00"
      },
      "execution_count": null,
      "outputs": [
        {
          "name": "stdout",
          "output_type": "stream",
          "text": [
            "Enter the String to check Palindrome:malayalam\n"
          ]
        },
        {
          "output_type": "execute_result",
          "data": {
            "text/plain": [
              "True"
            ]
          },
          "metadata": {},
          "execution_count": 4
        }
      ]
    },
    {
      "cell_type": "code",
      "source": [
        "#5.\tImplement a function to calculate the sum of all numbers in a list and return the sum.\n",
        "\n",
        "def sum_list(list2):\n",
        "    sum=0\n",
        "    for i in list2:\n",
        "        sum+=i\n",
        "    return sum    \n",
        "    \n",
        "n=int(input(\"enter the number of elements in the list\"))\n",
        "print(\"enter the elements\")\n",
        "list2=[]\n",
        "for i in range(n):\n",
        "    num=int(input())\n",
        "    list2.append(num)\n",
        "print(\"The sum of numbers are :\",sum_list(list2))\n",
        "\n",
        "3"
      ],
      "metadata": {
        "colab": {
          "base_uri": "https://localhost:8080/"
        },
        "id": "_oxhpyWj1--e",
        "outputId": "eee35c9e-1032-4478-a2cb-8fa7095f1bbb"
      },
      "execution_count": null,
      "outputs": [
        {
          "output_type": "stream",
          "name": "stdout",
          "text": [
            "enter the number of elements in the list3\n",
            "enter the elements\n",
            "11\n",
            "22\n",
            "3\n",
            "The sum of numbers are : 36\n"
          ]
        }
      ]
    },
    {
      "cell_type": "code",
      "source": [
        "#6.\tCreate a function to find the average of a list of numbers and return the average value.\n",
        "\n",
        "def sum_list(list2):\n",
        "    sum=0\n",
        "    for i in list2:\n",
        "        sum+=i\n",
        "    return sum/len(list2)   \n",
        "    \n",
        "n=int(input(\"enter the number of elements in the list\"))\n",
        "print(\"enter the elements\")\n",
        "list2=[]\n",
        "for i in range(n):\n",
        "    num=int(input())\n",
        "    list2.append(num)\n",
        "print(\"The Average of numbers are :\",sum_list(list2))\n",
        "\n"
      ],
      "metadata": {
        "colab": {
          "base_uri": "https://localhost:8080/"
        },
        "id": "h_J5QbFf2FSE",
        "outputId": "3b48af4b-5557-4c41-8aa4-d2124d1b10db"
      },
      "execution_count": null,
      "outputs": [
        {
          "output_type": "stream",
          "name": "stdout",
          "text": [
            "enter the number of elements in the list3\n",
            "enter the elements\n",
            "1\n",
            "2\n",
            "3\n",
            "The Average of numbers are : 2.0\n"
          ]
        }
      ]
    },
    {
      "cell_type": "code",
      "source": [
        "#7.\tWrite a function to find the kth largest element in an unsorted list.\n",
        "def largest(list1,num):\n",
        "    list1 = sorted(list1, reverse=True)\n",
        "    return list1[num-1]\n",
        "n=int(input(\"enter the number of elements in the list\"))\n",
        "print(\"enter the elements\")\n",
        "list1=[]\n",
        "for i in range(n):\n",
        "    num=int(input())\n",
        "    list1.append(num)\n",
        "num=int(input(\"Enter the position to find largest\"))\n",
        "print (\"{}th largest element is:\".format(num), largest(list1,num))"
      ],
      "metadata": {
        "colab": {
          "base_uri": "https://localhost:8080/"
        },
        "id": "VB7Wwxv22Lyc",
        "outputId": "f14f3773-1b6d-4f47-c188-1d264b91e8b6"
      },
      "execution_count": null,
      "outputs": [
        {
          "output_type": "stream",
          "name": "stdout",
          "text": [
            "enter the number of elements in the list2\n",
            "enter the elements\n",
            "22\n",
            "22\n",
            "Enter the position to find largest2\n",
            "2th largest element is: 22\n"
          ]
        }
      ]
    },
    {
      "cell_type": "code",
      "source": [
        "#8.\tWrite a recursive function to find the sum of digits of a positive integer.\n",
        "def sumOfDigit(n):\n",
        "    if n==0:\n",
        "        return 0\n",
        "    else:\n",
        "        return int(n % 10 + sumOfDigit(n / 10));\n",
        "   \n",
        "n = int(input(\"Enter the Number:\"))\n",
        "print(sumOfDigit(n))\n"
      ],
      "metadata": {
        "colab": {
          "base_uri": "https://localhost:8080/"
        },
        "id": "-cgVsmdX2TZZ",
        "outputId": "a9b21cde-f228-4a8b-fbd9-b28c77bcd6b3"
      },
      "execution_count": null,
      "outputs": [
        {
          "output_type": "stream",
          "name": "stdout",
          "text": [
            "Enter the Number:23\n",
            "5\n"
          ]
        }
      ]
    },
    {
      "cell_type": "code",
      "source": [
        "#9.\tWrite a recursive function to calculate the power of a number.\n",
        "def power(n, p):\n",
        "      if p == 0:\n",
        "        return 1\n",
        "      else:\n",
        "        return (n*power(n, p-1))\n",
        "\n",
        "n=int(input(\"Enter the number:\"))\n",
        "p=int(input(\"Enter the power:\"))   \n",
        " \n",
        "print(power(n, p))"
      ],
      "metadata": {
        "colab": {
          "base_uri": "https://localhost:8080/"
        },
        "id": "GrEqDrZn2Yw7",
        "outputId": "bc31e075-2fbd-48b6-86b9-3b655ae50179"
      },
      "execution_count": null,
      "outputs": [
        {
          "output_type": "stream",
          "name": "stdout",
          "text": [
            "Enter the number:2\n",
            "Enter the power:3\n",
            "8\n"
          ]
        }
      ]
    },
    {
      "cell_type": "code",
      "source": [
        "#10.Create a function to find the greatest common divisor (GCD) of two numbers using Euclidean algorithm.\n",
        "\n",
        "\n",
        "\n",
        "a = int(input(\"Enter First Number:\"))\n",
        "b = int(input(\"Enter second Number:\"))\n",
        "r = a%b\n",
        "q = int(a/b)\n",
        "while(r!=0):\n",
        "    a = b\n",
        "    b = r\n",
        "    q = int(a/b)\n",
        "    r = a - (b * q)\n",
        "\n",
        "\n",
        "print(b)"
      ],
      "metadata": {
        "colab": {
          "base_uri": "https://localhost:8080/"
        },
        "id": "jOMeoPi0Ski0",
        "outputId": "fa04e43a-2dec-4337-c51a-bda071d90e0e"
      },
      "execution_count": 4,
      "outputs": [
        {
          "output_type": "stream",
          "name": "stdout",
          "text": [
            "Enter First Number:22\n",
            "Enter second Number:44\n",
            "22\n"
          ]
        }
      ]
    }
  ]
}