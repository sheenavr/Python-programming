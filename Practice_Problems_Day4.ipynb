{
  "nbformat": 4,
  "nbformat_minor": 0,
  "metadata": {
    "colab": {
      "provenance": [],
      "authorship_tag": "ABX9TyMf8gdjDjvzjXkKcAdiZ+4J",
      "include_colab_link": true
    },
    "kernelspec": {
      "name": "python3",
      "display_name": "Python 3"
    },
    "language_info": {
      "name": "python"
    }
  },
  "cells": [
    {
      "cell_type": "markdown",
      "metadata": {
        "id": "view-in-github",
        "colab_type": "text"
      },
      "source": [
        "<a href=\"https://colab.research.google.com/github/sheenavr/Python-programming/blob/main/Practice_Problems_Day4.ipynb\" target=\"_parent\"><img src=\"https://colab.research.google.com/assets/colab-badge.svg\" alt=\"Open In Colab\"/></a>"
      ]
    },
    {
      "cell_type": "code",
      "execution_count": 4,
      "metadata": {
        "colab": {
          "base_uri": "https://localhost:8080/"
        },
        "id": "5ZhbsoTHtz70",
        "outputId": "10cb43ac-1c6f-4baa-bd28-d61388a81ba1"
      },
      "outputs": [
        {
          "output_type": "stream",
          "name": "stdout",
          "text": [
            "10\n",
            "20\n",
            "55\n"
          ]
        }
      ],
      "source": [
        "# 1. Write a Python program to print only those numbers which are divisible\n",
        "#of 5.\n",
        "#Sample input: 10, 20,33,46,55 Sample output: 10, 20, 55\n",
        "l=[10,20,33,46,55]\n",
        "for i in l:\n",
        "   if(i%5==0):\n",
        "      print(i)\n"
      ]
    },
    {
      "cell_type": "code",
      "source": [
        "#2. Write a Python program to reverse a list using for loop.\n",
        "#Sample input: 10,40,30,70\n",
        "#Sample output: 70,30,40,10\n",
        "l=[10,40,30,70]\n",
        "for i in l:\n",
        "    print(l[::-1])\n",
        "    break\n"
      ],
      "metadata": {
        "colab": {
          "base_uri": "https://localhost:8080/"
        },
        "id": "SzIdm4zGvEBg",
        "outputId": "5c5e10b2-48c1-4d95-d7d0-37bcd30d1149"
      },
      "execution_count": 6,
      "outputs": [
        {
          "output_type": "stream",
          "name": "stdout",
          "text": [
            "[70, 30, 40, 10]\n"
          ]
        }
      ]
    },
    {
      "cell_type": "code",
      "source": [
        "# 3. Write a Python program to print the following pattern.\n",
        "# *\n",
        "# **\n",
        "# ***\n",
        "# ****\n",
        "rows = int(input('Enter the number of rows'))\n",
        "for i in range(rows):\n",
        "   for j in range(i):\n",
        "      print('*', end='')\n",
        "   print('')"
      ],
      "metadata": {
        "colab": {
          "base_uri": "https://localhost:8080/"
        },
        "id": "cktHaGUFvjeD",
        "outputId": "f58b5e6d-8f27-4214-b83d-d60ee10797e0"
      },
      "execution_count": 18,
      "outputs": [
        {
          "output_type": "stream",
          "name": "stdout",
          "text": [
            "Enter the number of rows5\n",
            "\n",
            "*\n",
            "**\n",
            "***\n",
            "****\n"
          ]
        }
      ]
    },
    {
      "cell_type": "code",
      "source": [
        "# 4. Write a Python program to construct the following pattern, using a nested\n",
        "# for loop.\n",
        "# *\n",
        "# **\n",
        "# ***\n",
        "# ****\n",
        "# *****\n",
        "# ****\n",
        "# ***\n",
        "# **\n",
        "# *\n",
        "rows = 6\n",
        "for i in range(0, rows):\n",
        "    for j in range(0, i + 1):\n",
        "        print(\"*\", end='')\n",
        "    print(\"\")\n",
        "for i in range(rows , 0, -1):\n",
        "    for j in range(0, i - 1):\n",
        "        print(\"*\", end='')\n",
        "    print(\"\")"
      ],
      "metadata": {
        "colab": {
          "base_uri": "https://localhost:8080/"
        },
        "id": "7EhRGb2wxM9f",
        "outputId": "41da89bf-2166-49bc-8977-2e95ec9623a0"
      },
      "execution_count": 19,
      "outputs": [
        {
          "output_type": "stream",
          "name": "stdout",
          "text": [
            "*\n",
            "**\n",
            "***\n",
            "****\n",
            "*****\n",
            "******\n",
            "*****\n",
            "****\n",
            "***\n",
            "**\n",
            "*\n",
            "\n"
          ]
        }
      ]
    },
    {
      "cell_type": "code",
      "source": [
        "# 5. Get a list of numbers from user and multiply each element of list by 2 and \n",
        "# add it into a new list\n",
        "\n",
        "my_new_list = []\n",
        "newlist=[]\n",
        "n = int(input(\"Enter number of elements : \"))\n",
        "for i in range(0, n):\n",
        "    ele = int(input())\n",
        "    my_new_list.append(ele) \n",
        "print(\"Orginal list:\",my_new_list)\n",
        "for i in my_new_list:\n",
        " \n",
        "  newlist.append(i*2)\n",
        "print(\"list after multiplied by 2\",newlist)  \n"
      ],
      "metadata": {
        "colab": {
          "base_uri": "https://localhost:8080/"
        },
        "id": "x3wwcKrty1V9",
        "outputId": "3c55b192-4971-4f37-8078-5ea6122055ae"
      },
      "execution_count": 4,
      "outputs": [
        {
          "output_type": "stream",
          "name": "stdout",
          "text": [
            "Enter number of elements : 5\n",
            "1\n",
            "2\n",
            "3\n",
            "4\n",
            "5\n",
            "Orginal list: [1, 2, 3, 4, 5]\n",
            "list after multiplied by 2 [2, 4, 6, 8, 10]\n"
          ]
        }
      ]
    }
  ]
}